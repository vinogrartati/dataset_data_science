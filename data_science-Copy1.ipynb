{
 "cells": [
  {
   "cell_type": "code",
   "execution_count": 1,
   "metadata": {},
   "outputs": [],
   "source": [
    "from sklearn import tree\n",
    "import pandas as pd\n",
    "import numpy as np\n",
    "import matplotlib.pyplot as plt\n",
    "from sklearn.tree import DecisionTreeClassifier\n",
    "import seaborn as sns\n",
    "%matplotlib inline\n",
    "\n",
    "from IPython.display import SVG\n",
    "from graphviz import Source\n",
    "from IPython.display import display\n",
    "from sklearn.model_selection import cross_val_score\n",
    "from sklearn.model_selection import train_test_split\n",
    "\n",
    "#тюнит параметры с помощью кросс-валидации\n",
    "from sklearn.model_selection import GridSearchCV\n",
    "\n",
    "from sklearn.ensemble import RandomForestClassifier\n",
    "from sklearn.model_selection import cross_val_score\n",
    "from sklearn.model_selection import train_test_split\n",
    "from sklearn.metrics import accuracy_score\n",
    "from sklearn.tree import export_graphviz\n",
    "\n",
    "import math\n",
    "\n",
    "from sklearn.neighbors import KNeighborsClassifier\n",
    "\n",
    "from scipy.sparse import csr_matrix\n",
    "from sklearn.linear_model import LogisticRegression\n",
    "from sklearn.metrics import roc_auc_score"
   ]
  },
  {
   "cell_type": "code",
   "execution_count": 2,
   "metadata": {},
   "outputs": [
    {
     "data": {
      "text/html": [
       "<style>svg{width:90% !important; height:90% !important;}</style>"
      ],
      "text/plain": [
       "<IPython.core.display.HTML object>"
      ]
     },
     "execution_count": 2,
     "metadata": {},
     "output_type": "execute_result"
    }
   ],
   "source": [
    "from IPython.display import HTML\n",
    "style = \"<style>svg{width:90% !important; height:90% !important;}</style>\"\n",
    "HTML(style)"
   ]
  },
  {
   "cell_type": "code",
   "execution_count": 3,
   "metadata": {},
   "outputs": [],
   "source": [
    "conversion_rates = pd.read_csv(\"data/conversionRates.csv\")"
   ]
  },
  {
   "cell_type": "code",
   "execution_count": 4,
   "metadata": {},
   "outputs": [],
   "source": [
    "free_form_responses = pd.read_csv(\"data/freeformResponses.csv\", low_memory=False)"
   ]
  },
  {
   "cell_type": "code",
   "execution_count": 3,
   "metadata": {},
   "outputs": [
    {
     "name": "stderr",
     "output_type": "stream",
     "text": [
      "/home/tanya/miniconda3/lib/python3.7/site-packages/IPython/core/interactiveshell.py:3063: DtypeWarning: Columns (31,83,86,87,98,99,109,116,123,124,127,129,130,164) have mixed types.Specify dtype option on import or set low_memory=False.\n",
      "  interactivity=interactivity, compiler=compiler, result=result)\n"
     ]
    }
   ],
   "source": [
    "import codecs\n",
    "with codecs.open(\"data/multipleChoiceResponses.csv\", 'r', encoding='utf-8',\n",
    "                 errors='ignore') as fdata:\n",
    "    data = pd.read_csv(fdata)"
   ]
  },
  {
   "cell_type": "code",
   "execution_count": 6,
   "metadata": {},
   "outputs": [
    {
     "data": {
      "text/plain": [
       "array(['DBA/Database Engineer', nan, 'Operations Research Practitioner',\n",
       "       'Computer Scientist', 'Data Scientist',\n",
       "       'Software Developer/Software Engineer', 'Business Analyst',\n",
       "       'Engineer', 'Scientist/Researcher', 'Researcher', 'Other',\n",
       "       'Data Analyst', 'Machine Learning Engineer', 'Statistician',\n",
       "       'Predictive Modeler', 'Programmer', 'Data Miner'], dtype=object)"
      ]
     },
     "execution_count": 6,
     "metadata": {},
     "output_type": "execute_result"
    }
   ],
   "source": [
    "pd.unique(data['EmploymentStatus'])\n",
    "pd.unique(data['CurrentJobTitleSelect'])"
   ]
  },
  {
   "cell_type": "code",
   "execution_count": 47,
   "metadata": {},
   "outputs": [
    {
     "data": {
      "text/plain": [
       "<matplotlib.axes._subplots.AxesSubplot at 0x7f728c46b510>"
      ]
     },
     "execution_count": 47,
     "metadata": {},
     "output_type": "execute_result"
    },
    {
     "data": {
      "image/png": "[encoded data removed]",
      "text/plain": [
       "<Figure size 432x288 with 1 Axes>"
      ]
     },
     "metadata": {
      "needs_background": "light"
     },
     "output_type": "display_data"
    }
   ],
   "source": [
    "data['Age'].hist()"
   ]
  },
  {
   "cell_type": "code",
   "execution_count": 48,
   "metadata": {},
   "outputs": [
    {
     "data": {
      "image/png": "[encoded data removed]",
      "text/plain": [
       "<Figure size 432x288 with 1 Axes>"
      ]
     },
     "metadata": {
      "needs_background": "light"
     },
     "output_type": "display_data"
    }
   ],
   "source": [
    "sns.boxplot(x=data[data[\"GenderSelect\"].isin([\"Male\", \"Female\"])][\"GenderSelect\"], y=\"Age\", data=data)\n",
    "plt.xlabel(\"Пол опрошенных\");\n",
    "plt.ylabel(\"Возраст\");\n",
    "plt.title(\"Boxplot зависимости пола и возраста\");"
   ]
  },
  {
   "cell_type": "code",
   "execution_count": 49,
   "metadata": {},
   "outputs": [
    {
     "data": {
      "text/plain": [
       "<matplotlib.axes._subplots.AxesSubplot at 0x7f71ff72ebd0>"
      ]
     },
     "execution_count": 49,
     "metadata": {},
     "output_type": "execute_result"
    },
    {
     "data": {
      "image/png": "[encoded data removed]",
      "text/plain": [
       "<Figure size 432x288 with 1 Axes>"
      ]
     },
     "metadata": {
      "needs_background": "light"
     },
     "output_type": "display_data"
    }
   ],
   "source": [
    "sns.boxplot(x=data[\"GenderSelect\"], y=\"Age\", data=data)"
   ]
  },
  {
   "cell_type": "code",
   "execution_count": 23,
   "metadata": {},
   "outputs": [
    {
     "data": {
      "text/plain": [
       "Employed full-time                                      10897\n",
       "Not employed, but looking for work                       2110\n",
       "Independent contractor, freelancer, or self-employed     1330\n",
       "Not employed, and not looking for work                    924\n",
       "Employed part-time                                        917\n",
       "I prefer not to say                                       420\n",
       "Retired                                                   118\n",
       "Name: EmploymentStatus, dtype: int64"
      ]
     },
     "execution_count": 23,
     "metadata": {},
     "output_type": "execute_result"
    }
   ],
   "source": [
    "data['EmploymentStatus'].fillna(\"NaN\").value_counts()"
   ]
  },
  {
   "cell_type": "code",
   "execution_count": 18,
   "metadata": {},
   "outputs": [
    {
     "name": "stdout",
     "output_type": "stream",
     "text": [
      "<class 'pandas.core.frame.DataFrame'>\n",
      "RangeIndex: 16716 entries, 0 to 16715\n",
      "Columns: 229 entries, GenderSelect to gender\n",
      "dtypes: bool(1), float64(13), object(215)\n",
      "memory usage: 29.1+ MB\n"
     ]
    }
   ],
   "source": [
    "data.info()"
   ]
  },
  {
   "cell_type": "code",
   "execution_count": 19,
   "metadata": {},
   "outputs": [
    {
     "data": {
      "text/html": [
       "<div>\n",
       "<style scoped>\n",
       "    .dataframe tbody tr th:only-of-type {\n",
       "        vertical-align: middle;\n",
       "    }\n",
       "\n",
       "    .dataframe tbody tr th {\n",
       "        vertical-align: top;\n",
       "    }\n",
       "\n",
       "    .dataframe thead th {\n",
       "        text-align: right;\n",
       "    }\n",
       "</style>\n",
       "<table border=\"1\" class=\"dataframe\">\n",
       "  <thead>\n",
       "    <tr style=\"text-align: right;\">\n",
       "      <th></th>\n",
       "      <th>GenderSelect</th>\n",
       "      <th>Country</th>\n",
       "      <th>Age</th>\n",
       "      <th>EmploymentStatus</th>\n",
       "      <th>StudentStatus</th>\n",
       "      <th>LearningDataScience</th>\n",
       "      <th>CodeWriter</th>\n",
       "      <th>CareerSwitcher</th>\n",
       "      <th>CurrentJobTitleSelect</th>\n",
       "      <th>TitleFit</th>\n",
       "      <th>...</th>\n",
       "      <th>JobFactorDepartment</th>\n",
       "      <th>JobFactorTitle</th>\n",
       "      <th>JobFactorCompanyFunding</th>\n",
       "      <th>JobFactorImpact</th>\n",
       "      <th>JobFactorRemote</th>\n",
       "      <th>JobFactorIndustry</th>\n",
       "      <th>JobFactorLeaderReputation</th>\n",
       "      <th>JobFactorDiversity</th>\n",
       "      <th>JobFactorPublishingOpportunity</th>\n",
       "      <th>gender</th>\n",
       "    </tr>\n",
       "  </thead>\n",
       "  <tbody>\n",
       "    <tr>\n",
       "      <th>0</th>\n",
       "      <td>Non-binary, genderqueer, or gender non-conforming</td>\n",
       "      <td>NaN</td>\n",
       "      <td>NaN</td>\n",
       "      <td>Employed full-time</td>\n",
       "      <td>NaN</td>\n",
       "      <td>NaN</td>\n",
       "      <td>Yes</td>\n",
       "      <td>NaN</td>\n",
       "      <td>DBA/Database Engineer</td>\n",
       "      <td>Fine</td>\n",
       "      <td>...</td>\n",
       "      <td>NaN</td>\n",
       "      <td>NaN</td>\n",
       "      <td>NaN</td>\n",
       "      <td>NaN</td>\n",
       "      <td>NaN</td>\n",
       "      <td>NaN</td>\n",
       "      <td>NaN</td>\n",
       "      <td>NaN</td>\n",
       "      <td>NaN</td>\n",
       "      <td>False</td>\n",
       "    </tr>\n",
       "    <tr>\n",
       "      <th>1</th>\n",
       "      <td>Female</td>\n",
       "      <td>United States</td>\n",
       "      <td>30.0</td>\n",
       "      <td>Not employed, but looking for work</td>\n",
       "      <td>NaN</td>\n",
       "      <td>NaN</td>\n",
       "      <td>NaN</td>\n",
       "      <td>NaN</td>\n",
       "      <td>NaN</td>\n",
       "      <td>NaN</td>\n",
       "      <td>...</td>\n",
       "      <td>NaN</td>\n",
       "      <td>NaN</td>\n",
       "      <td>NaN</td>\n",
       "      <td>NaN</td>\n",
       "      <td>NaN</td>\n",
       "      <td>NaN</td>\n",
       "      <td>Somewhat important</td>\n",
       "      <td>NaN</td>\n",
       "      <td>NaN</td>\n",
       "      <td>True</td>\n",
       "    </tr>\n",
       "    <tr>\n",
       "      <th>2</th>\n",
       "      <td>Male</td>\n",
       "      <td>Canada</td>\n",
       "      <td>28.0</td>\n",
       "      <td>Not employed, but looking for work</td>\n",
       "      <td>NaN</td>\n",
       "      <td>NaN</td>\n",
       "      <td>NaN</td>\n",
       "      <td>NaN</td>\n",
       "      <td>NaN</td>\n",
       "      <td>NaN</td>\n",
       "      <td>...</td>\n",
       "      <td>Very Important</td>\n",
       "      <td>Very Important</td>\n",
       "      <td>Very Important</td>\n",
       "      <td>Very Important</td>\n",
       "      <td>Very Important</td>\n",
       "      <td>Very Important</td>\n",
       "      <td>Very Important</td>\n",
       "      <td>Very Important</td>\n",
       "      <td>Very Important</td>\n",
       "      <td>True</td>\n",
       "    </tr>\n",
       "    <tr>\n",
       "      <th>3</th>\n",
       "      <td>Male</td>\n",
       "      <td>United States</td>\n",
       "      <td>56.0</td>\n",
       "      <td>Independent contractor, freelancer, or self-em...</td>\n",
       "      <td>NaN</td>\n",
       "      <td>NaN</td>\n",
       "      <td>Yes</td>\n",
       "      <td>NaN</td>\n",
       "      <td>Operations Research Practitioner</td>\n",
       "      <td>Poorly</td>\n",
       "      <td>...</td>\n",
       "      <td>NaN</td>\n",
       "      <td>NaN</td>\n",
       "      <td>NaN</td>\n",
       "      <td>NaN</td>\n",
       "      <td>NaN</td>\n",
       "      <td>NaN</td>\n",
       "      <td>NaN</td>\n",
       "      <td>NaN</td>\n",
       "      <td>NaN</td>\n",
       "      <td>True</td>\n",
       "    </tr>\n",
       "    <tr>\n",
       "      <th>4</th>\n",
       "      <td>Male</td>\n",
       "      <td>Taiwan</td>\n",
       "      <td>38.0</td>\n",
       "      <td>Employed full-time</td>\n",
       "      <td>NaN</td>\n",
       "      <td>NaN</td>\n",
       "      <td>Yes</td>\n",
       "      <td>NaN</td>\n",
       "      <td>Computer Scientist</td>\n",
       "      <td>Fine</td>\n",
       "      <td>...</td>\n",
       "      <td>NaN</td>\n",
       "      <td>NaN</td>\n",
       "      <td>NaN</td>\n",
       "      <td>NaN</td>\n",
       "      <td>NaN</td>\n",
       "      <td>NaN</td>\n",
       "      <td>NaN</td>\n",
       "      <td>NaN</td>\n",
       "      <td>NaN</td>\n",
       "      <td>True</td>\n",
       "    </tr>\n",
       "  </tbody>\n",
       "</table>\n",
       "<p>5 rows × 229 columns</p>\n",
       "</div>"
      ],
      "text/plain": [
       "                                        GenderSelect        Country   Age  \\\n",
       "0  Non-binary, genderqueer, or gender non-conforming            NaN   NaN   \n",
       "1                                             Female  United States  30.0   \n",
       "2                                               Male         Canada  28.0   \n",
       "3                                               Male  United States  56.0   \n",
       "4                                               Male         Taiwan  38.0   \n",
       "\n",
       "                                    EmploymentStatus StudentStatus  \\\n",
       "0                                 Employed full-time           NaN   \n",
       "1                 Not employed, but looking for work           NaN   \n",
       "2                 Not employed, but looking for work           NaN   \n",
       "3  Independent contractor, freelancer, or self-em...           NaN   \n",
       "4                                 Employed full-time           NaN   \n",
       "\n",
       "  LearningDataScience CodeWriter CareerSwitcher  \\\n",
       "0                 NaN        Yes            NaN   \n",
       "1                 NaN        NaN            NaN   \n",
       "2                 NaN        NaN            NaN   \n",
       "3                 NaN        Yes            NaN   \n",
       "4                 NaN        Yes            NaN   \n",
       "\n",
       "              CurrentJobTitleSelect TitleFit  ... JobFactorDepartment  \\\n",
       "0             DBA/Database Engineer     Fine  ...                 NaN   \n",
       "1                               NaN      NaN  ...                 NaN   \n",
       "2                               NaN      NaN  ...      Very Important   \n",
       "3  Operations Research Practitioner   Poorly  ...                 NaN   \n",
       "4                Computer Scientist     Fine  ...                 NaN   \n",
       "\n",
       "   JobFactorTitle JobFactorCompanyFunding JobFactorImpact JobFactorRemote  \\\n",
       "0             NaN                     NaN             NaN             NaN   \n",
       "1             NaN                     NaN             NaN             NaN   \n",
       "2  Very Important          Very Important  Very Important  Very Important   \n",
       "3             NaN                     NaN             NaN             NaN   \n",
       "4             NaN                     NaN             NaN             NaN   \n",
       "\n",
       "  JobFactorIndustry JobFactorLeaderReputation JobFactorDiversity  \\\n",
       "0               NaN                       NaN                NaN   \n",
       "1               NaN        Somewhat important                NaN   \n",
       "2    Very Important            Very Important     Very Important   \n",
       "3               NaN                       NaN                NaN   \n",
       "4               NaN                       NaN                NaN   \n",
       "\n",
       "  JobFactorPublishingOpportunity gender  \n",
       "0                            NaN  False  \n",
       "1                            NaN   True  \n",
       "2                 Very Important   True  \n",
       "3                            NaN   True  \n",
       "4                            NaN   True  \n",
       "\n",
       "[5 rows x 229 columns]"
      ]
     },
     "execution_count": 19,
     "metadata": {},
     "output_type": "execute_result"
    }
   ],
   "source": [
    "data.head()"
   ]
  },
  {
   "cell_type": "code",
   "execution_count": 7,
   "metadata": {},
   "outputs": [
    {
     "data": {
      "text/plain": [
       "array(['Non-binary, genderqueer, or gender non-conforming', 'Female',\n",
       "       'Male', 'A different identity', nan], dtype=object)"
      ]
     },
     "execution_count": 7,
     "metadata": {},
     "output_type": "execute_result"
    }
   ],
   "source": [
    "pd.unique(data['GenderSelect'])"
   ]
  },
  {
   "cell_type": "markdown",
   "metadata": {},
   "source": [
    "### Проранжируем имеющиеся варианты ответов в данных, чтобы обработать их\n",
    "\n",
    "*GenderSelect*\n",
    "* Male - 0\n",
    "* Female - 1\n",
    "\n",
    "*EmploymentStatus* - занятость\n",
    "* Not employed, but looking for work - 0\n",
    "* Employed full-time - 1\n",
    "* Independent contractor, freelancer, or self-employed - 2\n",
    "* Not employed, and not looking for work - 3\n",
    "* Employed part-time - 4\n",
    "* Retired - 5\n",
    "* I prefer not to say - 6\n",
    "\n",
    "*StudentStatus*\n",
    "* Yes - 1\n",
    "* No - 0\n",
    "\n",
    "*LearningDataScience*\n",
    "* No, I am not focused on learning data science skills - 0\n",
    "* Yes, but data science is a small part of what I'm focused on learning - 1\n",
    "* Yes, I'm focused on learning mostly data science skills - 2\n",
    "\n",
    "*CodeWriter*\n",
    "* Yes - 1\n",
    "* No - 0\n",
    "\n",
    "*CareerSwitcher* -  желание смены текущей кареьры на карьеру в data science\n",
    "* Yes - 1\n",
    "* No - 0\n",
    "\n",
    "???? на подумоть\n",
    "*CurrentJobTitleSelect*\n",
    "DBA/Database Engineer\n",
    "Operations Research Practitioner\n",
    "Computer Scientist\n",
    "Data Scientist',\n",
    "Software Developer/Software Engineer\n",
    "Business Analyst\n",
    "Engineer\n",
    "Scientist/Researcher\n",
    "Researcher\n",
    "Other\n",
    "Data Analyst\n",
    "Machine Learning Engineer\n",
    "Statistician\n",
    "Predictive Modeler\n",
    "Programmer\n",
    "Data Miner\n",
    "\n",
    "*FormalEducation* - уровень образования\n",
    "* Bachelor's degree\n",
    "* Master's degree\n",
    "* Doctoral degree\n",
    "* Some college/university study without earning a bachelor's degree\n",
    "* I did not complete any formal education past high school\n",
    "* Professional degree', 'I prefer not to answer\n",
    "\n",
    "*MLMethodNextYearSelect* - самый интересующий метод DS для изучения в следующем году\n",
    "*MLToolNextYearSelect* - самый интересующий иструмент DS или технология для изучения в следующем году\n",
    "\n",
    "*LanguageRecommendationSelect* - какой язык программирования вы бы порекомендовали изучать новичкам в первую очередь ['F#', 'Python', 'R', 'SQL', nan, 'Java', 'Matlab', 'C/C++/C#',\n",
    "       'SAS', 'Stata', 'Other', 'Julia', 'Scala', 'Haskell']\n",
    "*PublicDatasetsSelect* - откуда вы берте публичные датасеты для практики навыков работы с данными\n",
    "*LearningPlatformSelect* - платформы и ресурсы вы использовали для обучения DS\n",
    "\n",
    "Насколько полезны эти платформы и ресурсы для обучения навыкам работы с данными?  \n",
    "*LearningPlatformUsefulnessBlogs* - блоги  \n",
    "*LearningPlatformUsefulnessCollege* - колледж/университет  \n",
    "*LearningPlatformUsefulnessCompany* - обучение внутри компании  \n",
    "*LearningPlatformUsefulnessConferences* - конференции  \n",
    "*LearningPlatformUsefulnessFriends* - окружение единомышленников-друзей  \n",
    "*LearningPlatformUsefulnessKaggle* - ресурс Kaggle  \n",
    "*LearningPlatformUsefulnessCommunities* - онлайн-сообщества  \n",
    "*LearningPlatformUsefulnessDocumentation* - документация  \n",
    "*LearningPlatformUsefulnessCourses* - онлайн курсы  \n",
    "*LearningPlatformUsefulnessProjects* - персональные проекты  \n",
    "*LearningPlatformUsefulnessPodcasts* - подкасты  \n",
    "*LearningPlatformUsefulnessSO* - Stack Overflow Q&A  \n",
    "*LearningPlatformUsefulnessTextbook* - учебники  \n",
    "*LearningPlatformUsefulnessTutoring* - репетиторство  \n",
    "*LearningPlatformUsefulnessYouTube* - YouTube видео  \n",
    "* Not Useful - 0\n",
    "* Somewhat useful - 1\n",
    "* Very useful - 2\n",
    "\n",
    "*LearningDataScienceTime* - как долго вы изучаете DS\n",
    "* 1-2 years\n",
    "* < 1 year\n",
    "* 3-5 years\n",
    "* 15+ years\n",
    "* 5-10 years\n",
    "* 10-15 years\n",
    "\n",
    "Как вы думаете, насколько важны перечисленные ниже навыки или сертификаты для получения работы в области DS?  \n",
    "*JobSkillImportanceBigData* - 'Big Data' technology  \n",
    "*JobSkillImportanceDegree* - Ученая степень в смежных областях  \n",
    "*JobSkillImportanceStats* - Продвинутый уровень статистики  \n",
    "*JobSkillImportanceEnterpriseTools* - Инструменты для корпоративной разработки (например, SAS)  \n",
    "*JobSkillImportancePython* - свободное владение Python  \n",
    "*JobSkillImportanceR* - свободное владение R  \n",
    "*JobSkillImportanceSQL* - свободное владение SQL  \n",
    "*JobSkillImportanceMOOC* - онлайн сертификация или MOOC  \n",
    "*JobSkillImportanceVisualizations* - инструменты визуализации  \n",
    "* Unnecessary - 0\n",
    "* Nice to have - 1\n",
    "* Necessary - 2\n",
    "\n",
    "*HardwarePersonalProjectsSelect* - Какое компьютерное оборудование вы используете для своих личных проектов ML / DS?\n",
    "\n",
    "*TimeSpentStudying* - В среднем, сколько часов в неделю вы тратите на изучение DS?\n",
    "* 0 - 1 hour\n",
    "* 2 - 10 hours\n",
    "* 11 - 39 hours\n",
    "* 40+\n",
    "\n",
    "*ProveKnowledgeSelect* - Что может продемонстрировать ваши знания ML/DS\n",
    "* Master's degree\n",
    "* Github Portfolio\n",
    "* Kaggle Competitions',\n",
    "* Online Courses and Certifications\n",
    "* PhD\n",
    "* Experience from work in a company related to ML\n",
    "* Other\n",
    "\n",
    "*WorkAlgorithmsSelect* - Какие алгоритмы / аналитические методы вы обычно используете на работе\n",
    "\n",
    "Какие инструменты, технологии и языки науки о данных / аналитики вы использовали в прошлом году  \n",
    "*WorkToolsFrequencyAmazonML* - Amazon Machine Learning  \n",
    "*WorkToolsFrequencyAWS* - Amazon Web services  \n",
    "*WorkToolsFrequencyAngoss* - Angoss  \n",
    "*WorkToolsFrequencyC* - C/C++  \n",
    "*WorkToolsFrequencyJava* - Java  \n",
    "*WorkToolsFrequencyJupyter* - Jupyter notebooks  \n",
    "*WorkToolsFrequencyMATLAB* - MATLAB/Octave  \n",
    "*WorkToolsFrequencyExcel* - Excel  \n",
    "*WorkToolsFrequencyNoSQL* - NoSQL  \n",
    "*WorkToolsFrequencyPerl* - Perl  \n",
    "*WorkToolsFrequencyPython* - Python  \n",
    "*WorkToolsFrequencyR* - R  \n",
    "*WorkToolsFrequencySQL* - SQL  \n",
    "*WorkToolsFrequencyTensorFlow* - TensorFlow  \n",
    "*WorkToolsFrequencyUnix* - Unix shell / awk  \n",
    "* Rarely - 0\n",
    "* Sometimes - 1\n",
    "* Often - 2\n",
    "* Most of the time - 3\n",
    "\n",
    "Какие методы DS вы использовали в прошлом году?  \n",
    "*WorkMethodsFrequencyA/B* A/B тесты  \n",
    "*WorkMethodsFrequencyAssociationRules* - Ассоциативные правила  \n",
    "*WorkMethodsFrequencyBayesian* - Байесовские техники  \n",
    "*WorkMethodsFrequencyCNNs* - Свёрточная нейронная сеть  \n",
    "*WorkMethodsFrequencyCross-Validation* - Кросс-валидация  \n",
    "*WorkMethodsFrequencyCollaborativeFiltering* - Коллаборативная фильтрация  \n",
    "*WorkMethodsFrequencyDataVisualization* - Визуализация данных  \n",
    "*WorkMethodsFrequencyDecisionTrees* - Деревья решений  \n",
    "*WorkMethodsFrequencyEnsembleMethods* - Ensemble Methods (Ансамбль методов)  \n",
    "*WorkMethodsFrequencyGANs* - Генеративно-состязательная сеть  \n",
    "*WorkMethodsFrequencyGBM* - Градиентный бустинг  \n",
    "*WorkMethodsFrequencyHMMs* - Скрытая марковская модель  \n",
    "*WorkMethodsFrequencyKNN* - Метод k-ближайших соседей  \n",
    "*WorkMethodsFrequencyLogisticRegression* - Логистическая регрессия  \n",
    "*WorkMethodsFrequencyMLN* - Марковские логические сети  \n",
    "*WorkMethodsFrequencyNaiveBayes* - Наивный байесовский классификатор  \n",
    "*WorkMethodsFrequencyNLP* - Обработка естественного языка  \n",
    "*WorkMethodsFrequencyNeuralNetworks* - Нейронные сети  \n",
    "*WorkMethodsFrequencyPCA* - Метод главных компонент и снижение размерности  \n",
    "*WorkMethodsFrequencyRandomForests* - Random Forests  \n",
    "*WorkMethodsFrequencyRecommenderSystems* - Рекомендательные Системы  \n",
    "*WorkMethodsFrequencyRNNs* - Рекуррентные нейронные сети  \n",
    "*WorkMethodsFrequencySegmentation* - Сегментация  \n",
    "*WorkMethodsFrequencySimulation* - Симуляция  \n",
    "*WorkMethodsFrequencySVMs* - Метод опорных векторов  \n",
    "*WorkMethodsFrequencyTextAnalysis* - Текстовая аналитика  \n",
    "*WorkMethodsFrequencyTimeSeriesAnalysis* - Анализ временных рядов  \n",
    "* Rarely - 0\n",
    "* Sometimes - 1\n",
    "* Often - 2\n",
    "* Most of the time - 3"
   ]
  },
  {
   "cell_type": "code",
   "execution_count": 5,
   "metadata": {},
   "outputs": [],
   "source": [
    "category_data = data.copy(deep=True)\n",
    "num_data1 = pd.DataFrame({\"Age\": category_data[\"Age\"]})"
   ]
  },
  {
   "cell_type": "code",
   "execution_count": 6,
   "metadata": {},
   "outputs": [],
   "source": [
    "num_data1 = pd.concat([num_data1, pd.get_dummies(category_data['GenderSelect'], prefix=\"Gender\"),\n",
    "                          pd.get_dummies(category_data['EmploymentStatus'], prefix=\"Employment\"),\n",
    "                          pd.get_dummies(category_data['StudentStatus'], prefix=\"Student\"),\n",
    "                          pd.get_dummies(category_data['CodeWriter'], prefix=\"CodeWriter\"),\n",
    "                          pd.get_dummies(category_data['CareerSwitcher'], prefix=\"CareerSwitcher\")\n",
    "                      ], axis=1)"
   ]
  },
  {
   "cell_type": "code",
   "execution_count": 8,
   "metadata": {},
   "outputs": [
    {
     "data": {
      "text/html": [
       "<div>\n",
       "<style scoped>\n",
       "    .dataframe tbody tr th:only-of-type {\n",
       "        vertical-align: middle;\n",
       "    }\n",
       "\n",
       "    .dataframe tbody tr th {\n",
       "        vertical-align: top;\n",
       "    }\n",
       "\n",
       "    .dataframe thead th {\n",
       "        text-align: right;\n",
       "    }\n",
       "</style>\n",
       "<table border=\"1\" class=\"dataframe\">\n",
       "  <thead>\n",
       "    <tr style=\"text-align: right;\">\n",
       "      <th></th>\n",
       "      <th>Age</th>\n",
       "      <th>Gender_A different identity</th>\n",
       "      <th>Gender_Female</th>\n",
       "      <th>Gender_Male</th>\n",
       "      <th>Gender_Non-binary, genderqueer, or gender non-conforming</th>\n",
       "      <th>Employment_Employed full-time</th>\n",
       "      <th>Employment_Employed part-time</th>\n",
       "      <th>Employment_I prefer not to say</th>\n",
       "      <th>Employment_Independent contractor, freelancer, or self-employed</th>\n",
       "      <th>Employment_Not employed, and not looking for work</th>\n",
       "      <th>Employment_Not employed, but looking for work</th>\n",
       "      <th>Employment_Retired</th>\n",
       "      <th>Student_No</th>\n",
       "      <th>Student_Yes</th>\n",
       "      <th>CodeWriter_No</th>\n",
       "      <th>CodeWriter_Yes</th>\n",
       "      <th>CareerSwitcher_No</th>\n",
       "      <th>CareerSwitcher_Yes</th>\n",
       "    </tr>\n",
       "  </thead>\n",
       "  <tbody>\n",
       "    <tr>\n",
       "      <th>0</th>\n",
       "      <td>NaN</td>\n",
       "      <td>0</td>\n",
       "      <td>0</td>\n",
       "      <td>0</td>\n",
       "      <td>1</td>\n",
       "      <td>1</td>\n",
       "      <td>0</td>\n",
       "      <td>0</td>\n",
       "      <td>0</td>\n",
       "      <td>0</td>\n",
       "      <td>0</td>\n",
       "      <td>0</td>\n",
       "      <td>0</td>\n",
       "      <td>0</td>\n",
       "      <td>0</td>\n",
       "      <td>1</td>\n",
       "      <td>0</td>\n",
       "      <td>0</td>\n",
       "    </tr>\n",
       "    <tr>\n",
       "      <th>1</th>\n",
       "      <td>30.0</td>\n",
       "      <td>0</td>\n",
       "      <td>1</td>\n",
       "      <td>0</td>\n",
       "      <td>0</td>\n",
       "      <td>0</td>\n",
       "      <td>0</td>\n",
       "      <td>0</td>\n",
       "      <td>0</td>\n",
       "      <td>0</td>\n",
       "      <td>1</td>\n",
       "      <td>0</td>\n",
       "      <td>0</td>\n",
       "      <td>0</td>\n",
       "      <td>0</td>\n",
       "      <td>0</td>\n",
       "      <td>0</td>\n",
       "      <td>0</td>\n",
       "    </tr>\n",
       "    <tr>\n",
       "      <th>2</th>\n",
       "      <td>28.0</td>\n",
       "      <td>0</td>\n",
       "      <td>0</td>\n",
       "      <td>1</td>\n",
       "      <td>0</td>\n",
       "      <td>0</td>\n",
       "      <td>0</td>\n",
       "      <td>0</td>\n",
       "      <td>0</td>\n",
       "      <td>0</td>\n",
       "      <td>1</td>\n",
       "      <td>0</td>\n",
       "      <td>0</td>\n",
       "      <td>0</td>\n",
       "      <td>0</td>\n",
       "      <td>0</td>\n",
       "      <td>0</td>\n",
       "      <td>0</td>\n",
       "    </tr>\n",
       "    <tr>\n",
       "      <th>3</th>\n",
       "      <td>56.0</td>\n",
       "      <td>0</td>\n",
       "      <td>0</td>\n",
       "      <td>1</td>\n",
       "      <td>0</td>\n",
       "      <td>0</td>\n",
       "      <td>0</td>\n",
       "      <td>0</td>\n",
       "      <td>1</td>\n",
       "      <td>0</td>\n",
       "      <td>0</td>\n",
       "      <td>0</td>\n",
       "      <td>0</td>\n",
       "      <td>0</td>\n",
       "      <td>0</td>\n",
       "      <td>1</td>\n",
       "      <td>0</td>\n",
       "      <td>0</td>\n",
       "    </tr>\n",
       "    <tr>\n",
       "      <th>4</th>\n",
       "      <td>38.0</td>\n",
       "      <td>0</td>\n",
       "      <td>0</td>\n",
       "      <td>1</td>\n",
       "      <td>0</td>\n",
       "      <td>1</td>\n",
       "      <td>0</td>\n",
       "      <td>0</td>\n",
       "      <td>0</td>\n",
       "      <td>0</td>\n",
       "      <td>0</td>\n",
       "      <td>0</td>\n",
       "      <td>0</td>\n",
       "      <td>0</td>\n",
       "      <td>0</td>\n",
       "      <td>1</td>\n",
       "      <td>0</td>\n",
       "      <td>0</td>\n",
       "    </tr>\n",
       "    <tr>\n",
       "      <th>...</th>\n",
       "      <td>...</td>\n",
       "      <td>...</td>\n",
       "      <td>...</td>\n",
       "      <td>...</td>\n",
       "      <td>...</td>\n",
       "      <td>...</td>\n",
       "      <td>...</td>\n",
       "      <td>...</td>\n",
       "      <td>...</td>\n",
       "      <td>...</td>\n",
       "      <td>...</td>\n",
       "      <td>...</td>\n",
       "      <td>...</td>\n",
       "      <td>...</td>\n",
       "      <td>...</td>\n",
       "      <td>...</td>\n",
       "      <td>...</td>\n",
       "      <td>...</td>\n",
       "    </tr>\n",
       "    <tr>\n",
       "      <th>16711</th>\n",
       "      <td>24.0</td>\n",
       "      <td>0</td>\n",
       "      <td>1</td>\n",
       "      <td>0</td>\n",
       "      <td>0</td>\n",
       "      <td>0</td>\n",
       "      <td>0</td>\n",
       "      <td>0</td>\n",
       "      <td>0</td>\n",
       "      <td>0</td>\n",
       "      <td>1</td>\n",
       "      <td>0</td>\n",
       "      <td>0</td>\n",
       "      <td>0</td>\n",
       "      <td>0</td>\n",
       "      <td>0</td>\n",
       "      <td>0</td>\n",
       "      <td>0</td>\n",
       "    </tr>\n",
       "    <tr>\n",
       "      <th>16712</th>\n",
       "      <td>25.0</td>\n",
       "      <td>0</td>\n",
       "      <td>0</td>\n",
       "      <td>1</td>\n",
       "      <td>0</td>\n",
       "      <td>1</td>\n",
       "      <td>0</td>\n",
       "      <td>0</td>\n",
       "      <td>0</td>\n",
       "      <td>0</td>\n",
       "      <td>0</td>\n",
       "      <td>0</td>\n",
       "      <td>0</td>\n",
       "      <td>0</td>\n",
       "      <td>0</td>\n",
       "      <td>1</td>\n",
       "      <td>0</td>\n",
       "      <td>0</td>\n",
       "    </tr>\n",
       "    <tr>\n",
       "      <th>16713</th>\n",
       "      <td>25.0</td>\n",
       "      <td>0</td>\n",
       "      <td>1</td>\n",
       "      <td>0</td>\n",
       "      <td>0</td>\n",
       "      <td>0</td>\n",
       "      <td>1</td>\n",
       "      <td>0</td>\n",
       "      <td>0</td>\n",
       "      <td>0</td>\n",
       "      <td>0</td>\n",
       "      <td>0</td>\n",
       "      <td>0</td>\n",
       "      <td>0</td>\n",
       "      <td>1</td>\n",
       "      <td>0</td>\n",
       "      <td>0</td>\n",
       "      <td>1</td>\n",
       "    </tr>\n",
       "    <tr>\n",
       "      <th>16714</th>\n",
       "      <td>16.0</td>\n",
       "      <td>0</td>\n",
       "      <td>1</td>\n",
       "      <td>0</td>\n",
       "      <td>0</td>\n",
       "      <td>0</td>\n",
       "      <td>0</td>\n",
       "      <td>1</td>\n",
       "      <td>0</td>\n",
       "      <td>0</td>\n",
       "      <td>0</td>\n",
       "      <td>0</td>\n",
       "      <td>0</td>\n",
       "      <td>1</td>\n",
       "      <td>0</td>\n",
       "      <td>0</td>\n",
       "      <td>0</td>\n",
       "      <td>0</td>\n",
       "    </tr>\n",
       "    <tr>\n",
       "      <th>16715</th>\n",
       "      <td>27.0</td>\n",
       "      <td>0</td>\n",
       "      <td>0</td>\n",
       "      <td>1</td>\n",
       "      <td>0</td>\n",
       "      <td>1</td>\n",
       "      <td>0</td>\n",
       "      <td>0</td>\n",
       "      <td>0</td>\n",
       "      <td>0</td>\n",
       "      <td>0</td>\n",
       "      <td>0</td>\n",
       "      <td>0</td>\n",
       "      <td>0</td>\n",
       "      <td>1</td>\n",
       "      <td>0</td>\n",
       "      <td>0</td>\n",
       "      <td>1</td>\n",
       "    </tr>\n",
       "  </tbody>\n",
       "</table>\n",
       "<p>16716 rows × 18 columns</p>\n",
       "</div>"
      ],
      "text/plain": [
       "        Age  Gender_A different identity  Gender_Female  Gender_Male  \\\n",
       "0       NaN                            0              0            0   \n",
       "1      30.0                            0              1            0   \n",
       "2      28.0                            0              0            1   \n",
       "3      56.0                            0              0            1   \n",
       "4      38.0                            0              0            1   \n",
       "...     ...                          ...            ...          ...   \n",
       "16711  24.0                            0              1            0   \n",
       "16712  25.0                            0              0            1   \n",
       "16713  25.0                            0              1            0   \n",
       "16714  16.0                            0              1            0   \n",
       "16715  27.0                            0              0            1   \n",
       "\n",
       "       Gender_Non-binary, genderqueer, or gender non-conforming  \\\n",
       "0                                                      1          \n",
       "1                                                      0          \n",
       "2                                                      0          \n",
       "3                                                      0          \n",
       "4                                                      0          \n",
       "...                                                  ...          \n",
       "16711                                                  0          \n",
       "16712                                                  0          \n",
       "16713                                                  0          \n",
       "16714                                                  0          \n",
       "16715                                                  0          \n",
       "\n",
       "       Employment_Employed full-time  Employment_Employed part-time  \\\n",
       "0                                  1                              0   \n",
       "1                                  0                              0   \n",
       "2                                  0                              0   \n",
       "3                                  0                              0   \n",
       "4                                  1                              0   \n",
       "...                              ...                            ...   \n",
       "16711                              0                              0   \n",
       "16712                              1                              0   \n",
       "16713                              0                              1   \n",
       "16714                              0                              0   \n",
       "16715                              1                              0   \n",
       "\n",
       "       Employment_I prefer not to say  \\\n",
       "0                                   0   \n",
       "1                                   0   \n",
       "2                                   0   \n",
       "3                                   0   \n",
       "4                                   0   \n",
       "...                               ...   \n",
       "16711                               0   \n",
       "16712                               0   \n",
       "16713                               0   \n",
       "16714                               1   \n",
       "16715                               0   \n",
       "\n",
       "       Employment_Independent contractor, freelancer, or self-employed  \\\n",
       "0                                                      0                 \n",
       "1                                                      0                 \n",
       "2                                                      0                 \n",
       "3                                                      1                 \n",
       "4                                                      0                 \n",
       "...                                                  ...                 \n",
       "16711                                                  0                 \n",
       "16712                                                  0                 \n",
       "16713                                                  0                 \n",
       "16714                                                  0                 \n",
       "16715                                                  0                 \n",
       "\n",
       "       Employment_Not employed, and not looking for work  \\\n",
       "0                                                      0   \n",
       "1                                                      0   \n",
       "2                                                      0   \n",
       "3                                                      0   \n",
       "4                                                      0   \n",
       "...                                                  ...   \n",
       "16711                                                  0   \n",
       "16712                                                  0   \n",
       "16713                                                  0   \n",
       "16714                                                  0   \n",
       "16715                                                  0   \n",
       "\n",
       "       Employment_Not employed, but looking for work  Employment_Retired  \\\n",
       "0                                                  0                   0   \n",
       "1                                                  1                   0   \n",
       "2                                                  1                   0   \n",
       "3                                                  0                   0   \n",
       "4                                                  0                   0   \n",
       "...                                              ...                 ...   \n",
       "16711                                              1                   0   \n",
       "16712                                              0                   0   \n",
       "16713                                              0                   0   \n",
       "16714                                              0                   0   \n",
       "16715                                              0                   0   \n",
       "\n",
       "       Student_No  Student_Yes  CodeWriter_No  CodeWriter_Yes  \\\n",
       "0               0            0              0               1   \n",
       "1               0            0              0               0   \n",
       "2               0            0              0               0   \n",
       "3               0            0              0               1   \n",
       "4               0            0              0               1   \n",
       "...           ...          ...            ...             ...   \n",
       "16711           0            0              0               0   \n",
       "16712           0            0              0               1   \n",
       "16713           0            0              1               0   \n",
       "16714           0            1              0               0   \n",
       "16715           0            0              1               0   \n",
       "\n",
       "       CareerSwitcher_No  CareerSwitcher_Yes  \n",
       "0                      0                   0  \n",
       "1                      0                   0  \n",
       "2                      0                   0  \n",
       "3                      0                   0  \n",
       "4                      0                   0  \n",
       "...                  ...                 ...  \n",
       "16711                  0                   0  \n",
       "16712                  0                   0  \n",
       "16713                  0                   1  \n",
       "16714                  0                   0  \n",
       "16715                  0                   1  \n",
       "\n",
       "[16716 rows x 18 columns]"
      ]
     },
     "execution_count": 8,
     "metadata": {},
     "output_type": "execute_result"
    }
   ],
   "source": [
    "num_data1"
   ]
  },
  {
   "cell_type": "code",
   "execution_count": 7,
   "metadata": {
    "scrolled": true
   },
   "outputs": [],
   "source": [
    "names = {\n",
    "    \"LearningPlatformUsefulnessBlogs\", \"LearningPlatformUsefulnessCollege\", \"LearningPlatformUsefulnessCompany\",\n",
    "    \"LearningPlatformUsefulnessConferences\", \"LearningPlatformUsefulnessFriends\",\n",
    "    \"LearningPlatformUsefulnessKaggle\", \"LearningPlatformUsefulnessCommunities\",\n",
    "    \"LearningPlatformUsefulnessDocumentation\", \"LearningPlatformUsefulnessCourses\",\n",
    "    \"LearningPlatformUsefulnessProjects\", \"LearningPlatformUsefulnessPodcasts\",\n",
    "    \"LearningPlatformUsefulnessSO\", \"LearningPlatformUsefulnessTextbook\", \"LearningPlatformUsefulnessTutoring\",\n",
    "    \"LearningPlatformUsefulnessYouTube\"\n",
    "}\n",
    "\n",
    "for i in names:\n",
    "    num_data1 = pd.concat([num_data1, pd.get_dummies(category_data[i], prefix= \"LP_\" + i.split(\"Usefulness\")[1])\n",
    "                      ], axis=1)"
   ]
  },
  {
   "cell_type": "code",
   "execution_count": 8,
   "metadata": {},
   "outputs": [],
   "source": [
    "names = {\n",
    "    \"JobSkillImportanceBigData\", \"JobSkillImportanceDegree\", \"JobSkillImportanceStats\",\n",
    "    \"JobSkillImportanceEnterpriseTools\", \"JobSkillImportancePython\", \"JobSkillImportanceR\",\n",
    "    \"JobSkillImportanceSQL\", \"JobSkillImportanceMOOC\", \"JobSkillImportanceVisualizations\"\n",
    "}\n",
    "\n",
    "for i in names:\n",
    "    num_data1 = pd.concat([num_data1, pd.get_dummies(category_data[i], prefix= \"JS_\" + i.split(\"Importance\")[1])\n",
    "                      ], axis=1)"
   ]
  },
  {
   "cell_type": "code",
   "execution_count": 9,
   "metadata": {},
   "outputs": [],
   "source": [
    "names = {\n",
    "    #Технологии\n",
    "    \"WorkToolsFrequencyAmazonML\", \"WorkToolsFrequencyAWS\",\n",
    "    \"WorkToolsFrequencyAngoss\", \"WorkToolsFrequencyC\", \"WorkToolsFrequencyJava\",\n",
    "    \"WorkToolsFrequencyJupyter\", \"WorkToolsFrequencyMATLAB\", \"WorkToolsFrequencyExcel\",\n",
    "    \"WorkToolsFrequencyNoSQL\", \"WorkToolsFrequencyPerl\", \"WorkToolsFrequencyPython\", \"WorkToolsFrequencyR\",\n",
    "    \"WorkToolsFrequencySQL\", \"WorkToolsFrequencyTensorFlow\", \"WorkToolsFrequencyUnix\",\n",
    "    \n",
    "}\n",
    "\n",
    "for i in names:\n",
    "    num_data1 = pd.concat([num_data1, pd.get_dummies(category_data[i], prefix= \"WT_\" + i.split(\"Frequency\")[1])\n",
    "                      ], axis=1)"
   ]
  },
  {
   "cell_type": "code",
   "execution_count": 10,
   "metadata": {},
   "outputs": [],
   "source": [
    "names = {\n",
    "    #Методы\n",
    "    \"WorkMethodsFrequencyA/B\", \"WorkMethodsFrequencyAssociationRules\", \"WorkMethodsFrequencyBayesian\",\n",
    "    \"WorkMethodsFrequencyCNNs\", \"WorkMethodsFrequencyCross-Validation\", \"WorkMethodsFrequencyCollaborativeFiltering\",\n",
    "    \"WorkMethodsFrequencyDataVisualization\", \"WorkMethodsFrequencyDecisionTrees\",\n",
    "    \"WorkMethodsFrequencyEnsembleMethods\", \"WorkMethodsFrequencyGANs\", \"WorkMethodsFrequencyGBM\",\n",
    "    \"WorkMethodsFrequencyHMMs\", \"WorkMethodsFrequencyKNN\", \"WorkMethodsFrequencyLogisticRegression\",\n",
    "    \"WorkMethodsFrequencyMLN\", \"WorkMethodsFrequencyNaiveBayes\", \"WorkMethodsFrequencyNLP\",\n",
    "    \"WorkMethodsFrequencyNeuralNetworks\", \"WorkMethodsFrequencyPCA\", \"WorkMethodsFrequencyRandomForests\",\n",
    "    \"WorkMethodsFrequencyRecommenderSystems\", \"WorkMethodsFrequencyRNNs\", \"WorkMethodsFrequencySegmentation\",\n",
    "    \"WorkMethodsFrequencySimulation\", \"WorkMethodsFrequencySVMs\", \"WorkMethodsFrequencyTextAnalysis\",\n",
    "    \"WorkMethodsFrequencyTimeSeriesAnalysis\"\n",
    "}\n",
    "    \n",
    "for i in names:\n",
    "    num_data1 = pd.concat([num_data1, pd.get_dummies(category_data[i], prefix= \"WM_\" + i.split(\"Frequency\")[1])\n",
    "                      ], axis=1)"
   ]
  },
  {
   "cell_type": "code",
   "execution_count": 11,
   "metadata": {},
   "outputs": [],
   "source": [
    "num_data1['Age'].fillna(num_data1['Age'].median(), inplace=True)"
   ]
  },
  {
   "cell_type": "code",
   "execution_count": 12,
   "metadata": {},
   "outputs": [
    {
     "data": {
      "text/plain": [
       "(16716, 258)"
      ]
     },
     "execution_count": 12,
     "metadata": {},
     "output_type": "execute_result"
    }
   ],
   "source": [
    "num_data1.shape"
   ]
  },
  {
   "cell_type": "code",
   "execution_count": 16,
   "metadata": {},
   "outputs": [
    {
     "data": {
      "text/html": [
       "<div>\n",
       "<style scoped>\n",
       "    .dataframe tbody tr th:only-of-type {\n",
       "        vertical-align: middle;\n",
       "    }\n",
       "\n",
       "    .dataframe tbody tr th {\n",
       "        vertical-align: top;\n",
       "    }\n",
       "\n",
       "    .dataframe thead th {\n",
       "        text-align: right;\n",
       "    }\n",
       "</style>\n",
       "<table border=\"1\" class=\"dataframe\">\n",
       "  <thead>\n",
       "    <tr style=\"text-align: right;\">\n",
       "      <th></th>\n",
       "      <th>GenderSelect</th>\n",
       "      <th>Country</th>\n",
       "      <th>Age</th>\n",
       "      <th>EmploymentStatus</th>\n",
       "      <th>StudentStatus</th>\n",
       "      <th>LearningDataScience</th>\n",
       "      <th>CodeWriter</th>\n",
       "      <th>CareerSwitcher</th>\n",
       "      <th>CurrentJobTitleSelect</th>\n",
       "      <th>TitleFit</th>\n",
       "      <th>...</th>\n",
       "      <th>JobFactorExperienceLevel</th>\n",
       "      <th>JobFactorDepartment</th>\n",
       "      <th>JobFactorTitle</th>\n",
       "      <th>JobFactorCompanyFunding</th>\n",
       "      <th>JobFactorImpact</th>\n",
       "      <th>JobFactorRemote</th>\n",
       "      <th>JobFactorIndustry</th>\n",
       "      <th>JobFactorLeaderReputation</th>\n",
       "      <th>JobFactorDiversity</th>\n",
       "      <th>JobFactorPublishingOpportunity</th>\n",
       "    </tr>\n",
       "  </thead>\n",
       "  <tbody>\n",
       "    <tr>\n",
       "      <th>0</th>\n",
       "      <td>NaN</td>\n",
       "      <td>NaN</td>\n",
       "      <td>NaN</td>\n",
       "      <td>1</td>\n",
       "      <td>NaN</td>\n",
       "      <td>NaN</td>\n",
       "      <td>1.0</td>\n",
       "      <td>NaN</td>\n",
       "      <td>DBA/Database Engineer</td>\n",
       "      <td>Fine</td>\n",
       "      <td>...</td>\n",
       "      <td>NaN</td>\n",
       "      <td>NaN</td>\n",
       "      <td>NaN</td>\n",
       "      <td>NaN</td>\n",
       "      <td>NaN</td>\n",
       "      <td>NaN</td>\n",
       "      <td>NaN</td>\n",
       "      <td>NaN</td>\n",
       "      <td>NaN</td>\n",
       "      <td>NaN</td>\n",
       "    </tr>\n",
       "    <tr>\n",
       "      <th>1</th>\n",
       "      <td>1.0</td>\n",
       "      <td>United States</td>\n",
       "      <td>30.0</td>\n",
       "      <td>0</td>\n",
       "      <td>NaN</td>\n",
       "      <td>NaN</td>\n",
       "      <td>NaN</td>\n",
       "      <td>NaN</td>\n",
       "      <td>NaN</td>\n",
       "      <td>NaN</td>\n",
       "      <td>...</td>\n",
       "      <td>NaN</td>\n",
       "      <td>NaN</td>\n",
       "      <td>NaN</td>\n",
       "      <td>NaN</td>\n",
       "      <td>NaN</td>\n",
       "      <td>NaN</td>\n",
       "      <td>NaN</td>\n",
       "      <td>Somewhat important</td>\n",
       "      <td>NaN</td>\n",
       "      <td>NaN</td>\n",
       "    </tr>\n",
       "    <tr>\n",
       "      <th>2</th>\n",
       "      <td>0.0</td>\n",
       "      <td>Canada</td>\n",
       "      <td>28.0</td>\n",
       "      <td>0</td>\n",
       "      <td>NaN</td>\n",
       "      <td>NaN</td>\n",
       "      <td>NaN</td>\n",
       "      <td>NaN</td>\n",
       "      <td>NaN</td>\n",
       "      <td>NaN</td>\n",
       "      <td>...</td>\n",
       "      <td>Very Important</td>\n",
       "      <td>Very Important</td>\n",
       "      <td>Very Important</td>\n",
       "      <td>Very Important</td>\n",
       "      <td>Very Important</td>\n",
       "      <td>Very Important</td>\n",
       "      <td>Very Important</td>\n",
       "      <td>Very Important</td>\n",
       "      <td>Very Important</td>\n",
       "      <td>Very Important</td>\n",
       "    </tr>\n",
       "    <tr>\n",
       "      <th>3</th>\n",
       "      <td>0.0</td>\n",
       "      <td>United States</td>\n",
       "      <td>56.0</td>\n",
       "      <td>2</td>\n",
       "      <td>NaN</td>\n",
       "      <td>NaN</td>\n",
       "      <td>1.0</td>\n",
       "      <td>NaN</td>\n",
       "      <td>Operations Research Practitioner</td>\n",
       "      <td>Poorly</td>\n",
       "      <td>...</td>\n",
       "      <td>NaN</td>\n",
       "      <td>NaN</td>\n",
       "      <td>NaN</td>\n",
       "      <td>NaN</td>\n",
       "      <td>NaN</td>\n",
       "      <td>NaN</td>\n",
       "      <td>NaN</td>\n",
       "      <td>NaN</td>\n",
       "      <td>NaN</td>\n",
       "      <td>NaN</td>\n",
       "    </tr>\n",
       "    <tr>\n",
       "      <th>4</th>\n",
       "      <td>0.0</td>\n",
       "      <td>Taiwan</td>\n",
       "      <td>38.0</td>\n",
       "      <td>1</td>\n",
       "      <td>NaN</td>\n",
       "      <td>NaN</td>\n",
       "      <td>1.0</td>\n",
       "      <td>NaN</td>\n",
       "      <td>Computer Scientist</td>\n",
       "      <td>Fine</td>\n",
       "      <td>...</td>\n",
       "      <td>NaN</td>\n",
       "      <td>NaN</td>\n",
       "      <td>NaN</td>\n",
       "      <td>NaN</td>\n",
       "      <td>NaN</td>\n",
       "      <td>NaN</td>\n",
       "      <td>NaN</td>\n",
       "      <td>NaN</td>\n",
       "      <td>NaN</td>\n",
       "      <td>NaN</td>\n",
       "    </tr>\n",
       "    <tr>\n",
       "      <th>...</th>\n",
       "      <td>...</td>\n",
       "      <td>...</td>\n",
       "      <td>...</td>\n",
       "      <td>...</td>\n",
       "      <td>...</td>\n",
       "      <td>...</td>\n",
       "      <td>...</td>\n",
       "      <td>...</td>\n",
       "      <td>...</td>\n",
       "      <td>...</td>\n",
       "      <td>...</td>\n",
       "      <td>...</td>\n",
       "      <td>...</td>\n",
       "      <td>...</td>\n",
       "      <td>...</td>\n",
       "      <td>...</td>\n",
       "      <td>...</td>\n",
       "      <td>...</td>\n",
       "      <td>...</td>\n",
       "      <td>...</td>\n",
       "      <td>...</td>\n",
       "    </tr>\n",
       "    <tr>\n",
       "      <th>16711</th>\n",
       "      <td>1.0</td>\n",
       "      <td>Other</td>\n",
       "      <td>24.0</td>\n",
       "      <td>0</td>\n",
       "      <td>NaN</td>\n",
       "      <td>NaN</td>\n",
       "      <td>NaN</td>\n",
       "      <td>NaN</td>\n",
       "      <td>NaN</td>\n",
       "      <td>NaN</td>\n",
       "      <td>...</td>\n",
       "      <td>NaN</td>\n",
       "      <td>NaN</td>\n",
       "      <td>NaN</td>\n",
       "      <td>NaN</td>\n",
       "      <td>NaN</td>\n",
       "      <td>NaN</td>\n",
       "      <td>NaN</td>\n",
       "      <td>NaN</td>\n",
       "      <td>NaN</td>\n",
       "      <td>NaN</td>\n",
       "    </tr>\n",
       "    <tr>\n",
       "      <th>16712</th>\n",
       "      <td>0.0</td>\n",
       "      <td>Indonesia</td>\n",
       "      <td>25.0</td>\n",
       "      <td>1</td>\n",
       "      <td>NaN</td>\n",
       "      <td>NaN</td>\n",
       "      <td>1.0</td>\n",
       "      <td>NaN</td>\n",
       "      <td>Programmer</td>\n",
       "      <td>Fine</td>\n",
       "      <td>...</td>\n",
       "      <td>NaN</td>\n",
       "      <td>NaN</td>\n",
       "      <td>NaN</td>\n",
       "      <td>NaN</td>\n",
       "      <td>NaN</td>\n",
       "      <td>NaN</td>\n",
       "      <td>NaN</td>\n",
       "      <td>NaN</td>\n",
       "      <td>NaN</td>\n",
       "      <td>NaN</td>\n",
       "    </tr>\n",
       "    <tr>\n",
       "      <th>16713</th>\n",
       "      <td>1.0</td>\n",
       "      <td>Taiwan</td>\n",
       "      <td>25.0</td>\n",
       "      <td>4</td>\n",
       "      <td>NaN</td>\n",
       "      <td>NaN</td>\n",
       "      <td>0.0</td>\n",
       "      <td>1.0</td>\n",
       "      <td>NaN</td>\n",
       "      <td>NaN</td>\n",
       "      <td>...</td>\n",
       "      <td>NaN</td>\n",
       "      <td>NaN</td>\n",
       "      <td>NaN</td>\n",
       "      <td>NaN</td>\n",
       "      <td>NaN</td>\n",
       "      <td>NaN</td>\n",
       "      <td>NaN</td>\n",
       "      <td>NaN</td>\n",
       "      <td>NaN</td>\n",
       "      <td>NaN</td>\n",
       "    </tr>\n",
       "    <tr>\n",
       "      <th>16714</th>\n",
       "      <td>1.0</td>\n",
       "      <td>Singapore</td>\n",
       "      <td>16.0</td>\n",
       "      <td>6</td>\n",
       "      <td>1.0</td>\n",
       "      <td>Yes, but data science is a small part of what ...</td>\n",
       "      <td>NaN</td>\n",
       "      <td>NaN</td>\n",
       "      <td>NaN</td>\n",
       "      <td>NaN</td>\n",
       "      <td>...</td>\n",
       "      <td>NaN</td>\n",
       "      <td>NaN</td>\n",
       "      <td>NaN</td>\n",
       "      <td>NaN</td>\n",
       "      <td>NaN</td>\n",
       "      <td>NaN</td>\n",
       "      <td>NaN</td>\n",
       "      <td>NaN</td>\n",
       "      <td>NaN</td>\n",
       "      <td>NaN</td>\n",
       "    </tr>\n",
       "    <tr>\n",
       "      <th>16715</th>\n",
       "      <td>0.0</td>\n",
       "      <td>Japan</td>\n",
       "      <td>27.0</td>\n",
       "      <td>1</td>\n",
       "      <td>NaN</td>\n",
       "      <td>NaN</td>\n",
       "      <td>0.0</td>\n",
       "      <td>1.0</td>\n",
       "      <td>Programmer</td>\n",
       "      <td>Fine</td>\n",
       "      <td>...</td>\n",
       "      <td>NaN</td>\n",
       "      <td>NaN</td>\n",
       "      <td>NaN</td>\n",
       "      <td>NaN</td>\n",
       "      <td>NaN</td>\n",
       "      <td>NaN</td>\n",
       "      <td>NaN</td>\n",
       "      <td>NaN</td>\n",
       "      <td>NaN</td>\n",
       "      <td>NaN</td>\n",
       "    </tr>\n",
       "  </tbody>\n",
       "</table>\n",
       "<p>16716 rows × 228 columns</p>\n",
       "</div>"
      ],
      "text/plain": [
       "       GenderSelect        Country   Age  EmploymentStatus  StudentStatus  \\\n",
       "0               NaN            NaN   NaN                 1            NaN   \n",
       "1               1.0  United States  30.0                 0            NaN   \n",
       "2               0.0         Canada  28.0                 0            NaN   \n",
       "3               0.0  United States  56.0                 2            NaN   \n",
       "4               0.0         Taiwan  38.0                 1            NaN   \n",
       "...             ...            ...   ...               ...            ...   \n",
       "16711           1.0          Other  24.0                 0            NaN   \n",
       "16712           0.0      Indonesia  25.0                 1            NaN   \n",
       "16713           1.0         Taiwan  25.0                 4            NaN   \n",
       "16714           1.0      Singapore  16.0                 6            1.0   \n",
       "16715           0.0          Japan  27.0                 1            NaN   \n",
       "\n",
       "                                     LearningDataScience  CodeWriter  \\\n",
       "0                                                    NaN         1.0   \n",
       "1                                                    NaN         NaN   \n",
       "2                                                    NaN         NaN   \n",
       "3                                                    NaN         1.0   \n",
       "4                                                    NaN         1.0   \n",
       "...                                                  ...         ...   \n",
       "16711                                                NaN         NaN   \n",
       "16712                                                NaN         1.0   \n",
       "16713                                                NaN         0.0   \n",
       "16714  Yes, but data science is a small part of what ...         NaN   \n",
       "16715                                                NaN         0.0   \n",
       "\n",
       "       CareerSwitcher             CurrentJobTitleSelect TitleFit  ...  \\\n",
       "0                 NaN             DBA/Database Engineer     Fine  ...   \n",
       "1                 NaN                               NaN      NaN  ...   \n",
       "2                 NaN                               NaN      NaN  ...   \n",
       "3                 NaN  Operations Research Practitioner   Poorly  ...   \n",
       "4                 NaN                Computer Scientist     Fine  ...   \n",
       "...               ...                               ...      ...  ...   \n",
       "16711             NaN                               NaN      NaN  ...   \n",
       "16712             NaN                        Programmer     Fine  ...   \n",
       "16713             1.0                               NaN      NaN  ...   \n",
       "16714             NaN                               NaN      NaN  ...   \n",
       "16715             1.0                        Programmer     Fine  ...   \n",
       "\n",
       "      JobFactorExperienceLevel JobFactorDepartment  JobFactorTitle  \\\n",
       "0                          NaN                 NaN             NaN   \n",
       "1                          NaN                 NaN             NaN   \n",
       "2               Very Important      Very Important  Very Important   \n",
       "3                          NaN                 NaN             NaN   \n",
       "4                          NaN                 NaN             NaN   \n",
       "...                        ...                 ...             ...   \n",
       "16711                      NaN                 NaN             NaN   \n",
       "16712                      NaN                 NaN             NaN   \n",
       "16713                      NaN                 NaN             NaN   \n",
       "16714                      NaN                 NaN             NaN   \n",
       "16715                      NaN                 NaN             NaN   \n",
       "\n",
       "      JobFactorCompanyFunding JobFactorImpact JobFactorRemote  \\\n",
       "0                         NaN             NaN             NaN   \n",
       "1                         NaN             NaN             NaN   \n",
       "2              Very Important  Very Important  Very Important   \n",
       "3                         NaN             NaN             NaN   \n",
       "4                         NaN             NaN             NaN   \n",
       "...                       ...             ...             ...   \n",
       "16711                     NaN             NaN             NaN   \n",
       "16712                     NaN             NaN             NaN   \n",
       "16713                     NaN             NaN             NaN   \n",
       "16714                     NaN             NaN             NaN   \n",
       "16715                     NaN             NaN             NaN   \n",
       "\n",
       "      JobFactorIndustry  JobFactorLeaderReputation  JobFactorDiversity  \\\n",
       "0                   NaN                        NaN                 NaN   \n",
       "1                   NaN         Somewhat important                 NaN   \n",
       "2        Very Important             Very Important      Very Important   \n",
       "3                   NaN                        NaN                 NaN   \n",
       "4                   NaN                        NaN                 NaN   \n",
       "...                 ...                        ...                 ...   \n",
       "16711               NaN                        NaN                 NaN   \n",
       "16712               NaN                        NaN                 NaN   \n",
       "16713               NaN                        NaN                 NaN   \n",
       "16714               NaN                        NaN                 NaN   \n",
       "16715               NaN                        NaN                 NaN   \n",
       "\n",
       "       JobFactorPublishingOpportunity  \n",
       "0                                 NaN  \n",
       "1                                 NaN  \n",
       "2                      Very Important  \n",
       "3                                 NaN  \n",
       "4                                 NaN  \n",
       "...                               ...  \n",
       "16711                             NaN  \n",
       "16712                             NaN  \n",
       "16713                             NaN  \n",
       "16714                             NaN  \n",
       "16715                             NaN  \n",
       "\n",
       "[16716 rows x 228 columns]"
      ]
     },
     "execution_count": 16,
     "metadata": {},
     "output_type": "execute_result"
    }
   ],
   "source": [
    "category_data"
   ]
  },
  {
   "cell_type": "code",
   "execution_count": 41,
   "metadata": {},
   "outputs": [],
   "source": [
    "sns.set(style=\"whitegrid\")"
   ]
  },
  {
   "cell_type": "code",
   "execution_count": 49,
   "metadata": {},
   "outputs": [
    {
     "data": {
      "image/png": "[encoded data removed]",
      "text/plain": [
       "<Figure size 432x288 with 1 Axes>"
      ]
     },
     "metadata": {},
     "output_type": "display_data"
    }
   ],
   "source": [
    "a = sns.countplot(x = category_data[\"EmploymentStatus\"], hue=\"EmploymentStatus\", data = data);\n",
    "handles, labels = a.get_legend_handles_labels();\n",
    "a.legend(handles=handles, labels=labels, bbox_to_anchor=(1.1, 1.05));\n",
    "a.set_xlabel(\"Занятость опрошенных\");\n",
    "a.set_ylabel(\"Количество\");"
   ]
  },
  {
   "cell_type": "markdown",
   "metadata": {},
   "source": [
    "#### Мешок слов"
   ]
  },
  {
   "cell_type": "code",
   "execution_count": 51,
   "metadata": {},
   "outputs": [
    {
     "data": {
      "text/plain": [
       "array([nan, 'Basic laptop (Macbook)',\n",
       "       'Basic laptop (Macbook),Gaming Laptop (Laptop + CUDA capable GPU)',\n",
       "       'Laptop or Workstation and local IT supported servers',\n",
       "       'Basic laptop (Macbook),Traditional Workstation',\n",
       "       'Gaming Laptop (Laptop + CUDA capable GPU),Traditional Workstation',\n",
       "       'GPU accelerated Workstation',\n",
       "       'Gaming Laptop (Laptop + CUDA capable GPU)',\n",
       "       'Basic laptop (Macbook),GPU accelerated Workstation,Laptop + Cloud service (AWS, Azure, GCE ...),Workstation + Cloud service',\n",
       "       'Basic laptop (Macbook),Laptop + Cloud service (AWS, Azure, GCE ...)',\n",
       "       'Basic laptop (Macbook),Gaming Laptop (Laptop + CUDA capable GPU),Laptop + Cloud service (AWS, Azure, GCE ...)',\n",
       "       'GPU accelerated Workstation,Workstation + Cloud service',\n",
       "       'Traditional Workstation',\n",
       "       'Laptop + Cloud service (AWS, Azure, GCE ...)',\n",
       "       'GPU accelerated Workstation,Traditional Workstation,Other',\n",
       "       'Basic laptop (Macbook),GPU accelerated Workstation',\n",
       "       'Gaming Laptop (Laptop + CUDA capable GPU),GPU accelerated Workstation',\n",
       "       'Basic laptop (Macbook),Laptop + Cloud service (AWS, Azure, GCE ...),Workstation + Cloud service',\n",
       "       'Basic laptop (Macbook),Laptop + Cloud service (AWS, Azure, GCE ...),Laptop or Workstation and local IT supported servers,Traditional Workstation',\n",
       "       'Basic laptop (Macbook),Laptop or Workstation and local IT supported servers',\n",
       "       'Basic laptop (Macbook),GPU accelerated Workstation,Laptop + Cloud service (AWS, Azure, GCE ...)',\n",
       "       'GPU accelerated Workstation,Traditional Workstation',\n",
       "       'Gaming Laptop (Laptop + CUDA capable GPU),Laptop + Cloud service (AWS, Azure, GCE ...)',\n",
       "       'Other', 'Gaming Laptop (Laptop + CUDA capable GPU),Other',\n",
       "       'Gaming Laptop (Laptop + CUDA capable GPU),GPU accelerated Workstation,Laptop + Cloud service (AWS, Azure, GCE ...),Workstation + Cloud service',\n",
       "       'Laptop + Cloud service (AWS, Azure, GCE ...),Workstation + Cloud service',\n",
       "       'Laptop or Workstation and local IT supported servers,Traditional Workstation',\n",
       "       'Basic laptop (Macbook),Workstation + Cloud service',\n",
       "       'Workstation + Cloud service',\n",
       "       'GPU accelerated Workstation,Laptop + Cloud service (AWS, Azure, GCE ...)',\n",
       "       'Basic laptop (Macbook),Laptop + Cloud service (AWS, Azure, GCE ...),Laptop or Workstation and local IT supported servers',\n",
       "       'Basic laptop (Macbook),Gaming Laptop (Laptop + CUDA capable GPU),GPU accelerated Workstation',\n",
       "       'GPU accelerated Workstation,Laptop + Cloud service (AWS, Azure, GCE ...),Traditional Workstation',\n",
       "       'Traditional Workstation,Workstation + Cloud service',\n",
       "       'Gaming Laptop (Laptop + CUDA capable GPU),Laptop + Cloud service (AWS, Azure, GCE ...),Laptop or Workstation and local IT supported servers',\n",
       "       'Basic laptop (Macbook),Laptop + Cloud service (AWS, Azure, GCE ...),Laptop or Workstation and local IT supported servers,Traditional Workstation,Workstation + Cloud service',\n",
       "       'Basic laptop (Macbook),GPU accelerated Workstation,Laptop + Cloud service (AWS, Azure, GCE ...),Laptop or Workstation and local IT supported servers',\n",
       "       'Basic laptop (Macbook),Other',\n",
       "       'Laptop + Cloud service (AWS, Azure, GCE ...),Traditional Workstation',\n",
       "       'Laptop or Workstation and local IT supported servers,Other',\n",
       "       'GPU accelerated Workstation,Laptop or Workstation and local IT supported servers',\n",
       "       'Gaming Laptop (Laptop + CUDA capable GPU),Laptop + Cloud service (AWS, Azure, GCE ...),Traditional Workstation',\n",
       "       'Basic laptop (Macbook),Laptop + Cloud service (AWS, Azure, GCE ...),Traditional Workstation,Workstation + Cloud service',\n",
       "       'Basic laptop (Macbook),Laptop + Cloud service (AWS, Azure, GCE ...),Traditional Workstation',\n",
       "       'Laptop + Cloud service (AWS, Azure, GCE ...),Laptop or Workstation and local IT supported servers',\n",
       "       'Basic laptop (Macbook),Laptop or Workstation and local IT supported servers,Traditional Workstation,Workstation + Cloud service',\n",
       "       'Laptop or Workstation and local IT supported servers,Traditional Workstation,Workstation + Cloud service',\n",
       "       'Basic laptop (Macbook),GPU accelerated Workstation,Laptop or Workstation and local IT supported servers',\n",
       "       'Basic laptop (Macbook),GPU accelerated Workstation,Laptop + Cloud service (AWS, Azure, GCE ...),Laptop or Workstation and local IT supported servers,Workstation + Cloud service',\n",
       "       'Basic laptop (Macbook),GPU accelerated Workstation,Workstation + Cloud service',\n",
       "       'Basic laptop (Macbook),GPU accelerated Workstation,Laptop + Cloud service (AWS, Azure, GCE ...),Laptop or Workstation and local IT supported servers,Traditional Workstation,Workstation + Cloud service,Other',\n",
       "       'Basic laptop (Macbook),Laptop or Workstation and local IT supported servers,Traditional Workstation',\n",
       "       'Gaming Laptop (Laptop + CUDA capable GPU),GPU accelerated Workstation,Laptop + Cloud service (AWS, Azure, GCE ...)',\n",
       "       'Basic laptop (Macbook),Traditional Workstation,Other',\n",
       "       'Gaming Laptop (Laptop + CUDA capable GPU),Laptop + Cloud service (AWS, Azure, GCE ...),Workstation + Cloud service',\n",
       "       'Basic laptop (Macbook),Gaming Laptop (Laptop + CUDA capable GPU),Laptop + Cloud service (AWS, Azure, GCE ...),Laptop or Workstation and local IT supported servers,Traditional Workstation,Workstation + Cloud service',\n",
       "       'Gaming Laptop (Laptop + CUDA capable GPU),Laptop or Workstation and local IT supported servers,Traditional Workstation',\n",
       "       'Basic laptop (Macbook),GPU accelerated Workstation,Traditional Workstation',\n",
       "       'GPU accelerated Workstation,Traditional Workstation,Workstation + Cloud service',\n",
       "       'Basic laptop (Macbook),Traditional Workstation,Workstation + Cloud service',\n",
       "       'Gaming Laptop (Laptop + CUDA capable GPU),Workstation + Cloud service',\n",
       "       'Laptop + Cloud service (AWS, Azure, GCE ...),Laptop or Workstation and local IT supported servers,Other',\n",
       "       'Gaming Laptop (Laptop + CUDA capable GPU),GPU accelerated Workstation,Laptop or Workstation and local IT supported servers',\n",
       "       'Laptop + Cloud service (AWS, Azure, GCE ...),Traditional Workstation,Workstation + Cloud service',\n",
       "       'Laptop + Cloud service (AWS, Azure, GCE ...),Other',\n",
       "       'Basic laptop (Macbook),Laptop + Cloud service (AWS, Azure, GCE ...),Workstation + Cloud service,Other',\n",
       "       'Basic laptop (Macbook),Gaming Laptop (Laptop + CUDA capable GPU),Other',\n",
       "       'Basic laptop (Macbook),Workstation + Cloud service,Other',\n",
       "       'Basic laptop (Macbook),Gaming Laptop (Laptop + CUDA capable GPU),Laptop + Cloud service (AWS, Azure, GCE ...),Laptop or Workstation and local IT supported servers',\n",
       "       'Gaming Laptop (Laptop + CUDA capable GPU),Laptop or Workstation and local IT supported servers',\n",
       "       'GPU accelerated Workstation,Workstation + Cloud service,Other',\n",
       "       'Basic laptop (Macbook),Gaming Laptop (Laptop + CUDA capable GPU),Laptop + Cloud service (AWS, Azure, GCE ...),Laptop or Workstation and local IT supported servers,Traditional Workstation',\n",
       "       'Gaming Laptop (Laptop + CUDA capable GPU),GPU accelerated Workstation,Workstation + Cloud service',\n",
       "       'Basic laptop (Macbook),Gaming Laptop (Laptop + CUDA capable GPU),GPU accelerated Workstation,Laptop + Cloud service (AWS, Azure, GCE ...)',\n",
       "       'Basic laptop (Macbook),GPU accelerated Workstation,Traditional Workstation,Workstation + Cloud service',\n",
       "       'Traditional Workstation,Workstation + Cloud service,Other',\n",
       "       'Traditional Workstation,Other',\n",
       "       'Laptop or Workstation and local IT supported servers,Workstation + Cloud service',\n",
       "       'Basic laptop (Macbook),GPU accelerated Workstation,Other',\n",
       "       'Basic laptop (Macbook),Gaming Laptop (Laptop + CUDA capable GPU),Laptop or Workstation and local IT supported servers',\n",
       "       'Laptop + Cloud service (AWS, Azure, GCE ...),Laptop or Workstation and local IT supported servers,Traditional Workstation,Workstation + Cloud service',\n",
       "       'GPU accelerated Workstation,Laptop + Cloud service (AWS, Azure, GCE ...),Laptop or Workstation and local IT supported servers,Traditional Workstation,Workstation + Cloud service,Other',\n",
       "       'Basic laptop (Macbook),Gaming Laptop (Laptop + CUDA capable GPU),Traditional Workstation',\n",
       "       'Basic laptop (Macbook),Gaming Laptop (Laptop + CUDA capable GPU),Laptop + Cloud service (AWS, Azure, GCE ...),Workstation + Cloud service',\n",
       "       'GPU accelerated Workstation,Laptop + Cloud service (AWS, Azure, GCE ...),Laptop or Workstation and local IT supported servers,Workstation + Cloud service',\n",
       "       'Basic laptop (Macbook),Gaming Laptop (Laptop + CUDA capable GPU),GPU accelerated Workstation,Laptop + Cloud service (AWS, Azure, GCE ...),Traditional Workstation',\n",
       "       'Basic laptop (Macbook),Gaming Laptop (Laptop + CUDA capable GPU),GPU accelerated Workstation,Laptop + Cloud service (AWS, Azure, GCE ...),Other',\n",
       "       'Gaming Laptop (Laptop + CUDA capable GPU),GPU accelerated Workstation,Traditional Workstation',\n",
       "       'Basic laptop (Macbook),Gaming Laptop (Laptop + CUDA capable GPU),GPU accelerated Workstation,Traditional Workstation,Workstation + Cloud service',\n",
       "       'Laptop + Cloud service (AWS, Azure, GCE ...),Laptop or Workstation and local IT supported servers,Traditional Workstation,Workstation + Cloud service,Other',\n",
       "       'Basic laptop (Macbook),Laptop + Cloud service (AWS, Azure, GCE ...),Laptop or Workstation and local IT supported servers,Workstation + Cloud service',\n",
       "       'Basic laptop (Macbook),Gaming Laptop (Laptop + CUDA capable GPU),Workstation + Cloud service',\n",
       "       'GPU accelerated Workstation,Laptop or Workstation and local IT supported servers,Traditional Workstation',\n",
       "       'Gaming Laptop (Laptop + CUDA capable GPU),Laptop or Workstation and local IT supported servers,Workstation + Cloud service',\n",
       "       'Basic laptop (Macbook),Gaming Laptop (Laptop + CUDA capable GPU),Laptop + Cloud service (AWS, Azure, GCE ...),Laptop or Workstation and local IT supported servers,Workstation + Cloud service'],\n",
       "      dtype=object)"
      ]
     },
     "execution_count": 51,
     "metadata": {},
     "output_type": "execute_result"
    }
   ],
   "source": [
    "pd.unique(data[\"HardwarePersonalProjectsSelect\"])"
   ]
  },
  {
   "cell_type": "code",
   "execution_count": 52,
   "metadata": {},
   "outputs": [
    {
     "data": {
      "text/plain": [
       "Basic laptop (Macbook)                                                                                                                                                              1713\n",
       "Gaming Laptop (Laptop + CUDA capable GPU)                                                                                                                                            427\n",
       "Laptop + Cloud service (AWS, Azure, GCE ...)                                                                                                                                         313\n",
       "Traditional Workstation                                                                                                                                                              304\n",
       "Laptop or Workstation and local IT supported servers                                                                                                                                 268\n",
       "                                                                                                                                                                                    ... \n",
       "Basic laptop (Macbook),Gaming Laptop (Laptop + CUDA capable GPU),GPU accelerated Workstation,Laptop + Cloud service (AWS, Azure, GCE ...)                                              1\n",
       "Basic laptop (Macbook),Laptop + Cloud service (AWS, Azure, GCE ...),Laptop or Workstation and local IT supported servers,Workstation + Cloud service                                   1\n",
       "GPU accelerated Workstation,Workstation + Cloud service,Other                                                                                                                          1\n",
       "Basic laptop (Macbook),GPU accelerated Workstation,Laptop + Cloud service (AWS, Azure, GCE ...),Laptop or Workstation and local IT supported servers,Workstation + Cloud service       1\n",
       "GPU accelerated Workstation,Laptop or Workstation and local IT supported servers,Traditional Workstation                                                                               1\n",
       "Name: HardwarePersonalProjectsSelect, Length: 95, dtype: int64"
      ]
     },
     "execution_count": 52,
     "metadata": {},
     "output_type": "execute_result"
    }
   ],
   "source": [
    "data[\"HardwarePersonalProjectsSelect\"].value_counts()"
   ]
  },
  {
   "cell_type": "code",
   "execution_count": 63,
   "metadata": {},
   "outputs": [
    {
     "data": {
      "text/plain": [
       "95"
      ]
     },
     "execution_count": 63,
     "metadata": {},
     "output_type": "execute_result"
    }
   ],
   "source": [
    "data[\"HardwarePersonalProjectsSelect\"].nunique()"
   ]
  },
  {
   "cell_type": "code",
   "execution_count": 69,
   "metadata": {},
   "outputs": [
    {
     "data": {
      "text/plain": [
       "18                                                 Curious\n",
       "24                              Promote our data solutions\n",
       "86                     More knowledge and funny experience\n",
       "106      Keep it touch with the data science evolution ...\n",
       "137        machine learning and data science is my passion\n",
       "                               ...                        \n",
       "16610                                            New ideas\n",
       "16612    I'd be able to get datasets that I might need ...\n",
       "16633    My friend told me about it and I thought it so...\n",
       "16637    Learn more about what's possible, what machine...\n",
       "16701                              Catch up with the trend\n",
       "Name: KaggleMotivationFreeForm, Length: 746, dtype: object"
      ]
     },
     "execution_count": 69,
     "metadata": {},
     "output_type": "execute_result"
    }
   ],
   "source": [
    "free_form_responses[\"KaggleMotivationFreeForm\"].dropna()"
   ]
  },
  {
   "cell_type": "code",
   "execution_count": 65,
   "metadata": {
    "scrolled": false
   },
   "outputs": [
    {
     "data": {
      "text/plain": [
       "Curiosity                                                        14\n",
       "Fun                                                              12\n",
       "learning                                                         11\n",
       "Learning                                                          8\n",
       "hobby                                                             7\n",
       "                                                                 ..\n",
       "learning                                                          1\n",
       "Interest in analytics, using reduction to find/solve problems     1\n",
       "self-development                                                  1\n",
       "Upskilling                                                        1\n",
       "To make the world happier                                         1\n",
       "Name: KaggleMotivationFreeForm, Length: 668, dtype: int64"
      ]
     },
     "execution_count": 65,
     "metadata": {},
     "output_type": "execute_result"
    }
   ],
   "source": [
    "#создадим мешок слов из столбца мотивации быть пользователем Kaggle\n",
    "free_form_responses[\"KaggleMotivationFreeForm\"].value_counts()"
   ]
  },
  {
   "cell_type": "code",
   "execution_count": 85,
   "metadata": {},
   "outputs": [],
   "source": [
    "all_words = np.concatenate(free_form_responses[\"KaggleMotivationFreeForm\"].dropna().apply(lambda s: s.strip().split()).values)"
   ]
  },
  {
   "cell_type": "code",
   "execution_count": 86,
   "metadata": {},
   "outputs": [
    {
     "data": {
      "text/plain": [
       "4859"
      ]
     },
     "execution_count": 86,
     "metadata": {},
     "output_type": "execute_result"
    }
   ],
   "source": [
    "len(all_words)"
   ]
  },
  {
   "cell_type": "code",
   "execution_count": 77,
   "metadata": {},
   "outputs": [],
   "source": [
    "import nltk"
   ]
  },
  {
   "cell_type": "code",
   "execution_count": 78,
   "metadata": {},
   "outputs": [],
   "source": [
    "from nltk.corpus import stopwords"
   ]
  },
  {
   "cell_type": "code",
   "execution_count": 79,
   "metadata": {
    "scrolled": true
   },
   "outputs": [
    {
     "name": "stderr",
     "output_type": "stream",
     "text": [
      "[nltk_data] Downloading package stopwords to /home/tanya/nltk_data...\n",
      "[nltk_data]   Unzipping corpora/stopwords.zip.\n"
     ]
    },
    {
     "data": {
      "text/plain": [
       "True"
      ]
     },
     "execution_count": 79,
     "metadata": {},
     "output_type": "execute_result"
    }
   ],
   "source": [
    "nltk.download(\"stopwords\")"
   ]
  },
  {
   "cell_type": "code",
   "execution_count": 83,
   "metadata": {},
   "outputs": [
    {
     "data": {
      "text/plain": [
       "['i',\n",
       " 'me',\n",
       " 'my',\n",
       " 'myself',\n",
       " 'we',\n",
       " 'our',\n",
       " 'ours',\n",
       " 'ourselves',\n",
       " 'you',\n",
       " \"you're\",\n",
       " \"you've\",\n",
       " \"you'll\",\n",
       " \"you'd\",\n",
       " 'your',\n",
       " 'yours',\n",
       " 'yourself',\n",
       " 'yourselves',\n",
       " 'he',\n",
       " 'him',\n",
       " 'his',\n",
       " 'himself',\n",
       " 'she',\n",
       " \"she's\",\n",
       " 'her',\n",
       " 'hers',\n",
       " 'herself',\n",
       " 'it',\n",
       " \"it's\",\n",
       " 'its',\n",
       " 'itself',\n",
       " 'they',\n",
       " 'them',\n",
       " 'their',\n",
       " 'theirs',\n",
       " 'themselves',\n",
       " 'what',\n",
       " 'which',\n",
       " 'who',\n",
       " 'whom',\n",
       " 'this',\n",
       " 'that',\n",
       " \"that'll\",\n",
       " 'these',\n",
       " 'those',\n",
       " 'am',\n",
       " 'is',\n",
       " 'are',\n",
       " 'was',\n",
       " 'were',\n",
       " 'be',\n",
       " 'been',\n",
       " 'being',\n",
       " 'have',\n",
       " 'has',\n",
       " 'had',\n",
       " 'having',\n",
       " 'do',\n",
       " 'does',\n",
       " 'did',\n",
       " 'doing',\n",
       " 'a',\n",
       " 'an',\n",
       " 'the',\n",
       " 'and',\n",
       " 'but',\n",
       " 'if',\n",
       " 'or',\n",
       " 'because',\n",
       " 'as',\n",
       " 'until',\n",
       " 'while',\n",
       " 'of',\n",
       " 'at',\n",
       " 'by',\n",
       " 'for',\n",
       " 'with',\n",
       " 'about',\n",
       " 'against',\n",
       " 'between',\n",
       " 'into',\n",
       " 'through',\n",
       " 'during',\n",
       " 'before',\n",
       " 'after',\n",
       " 'above',\n",
       " 'below',\n",
       " 'to',\n",
       " 'from',\n",
       " 'up',\n",
       " 'down',\n",
       " 'in',\n",
       " 'out',\n",
       " 'on',\n",
       " 'off',\n",
       " 'over',\n",
       " 'under',\n",
       " 'again',\n",
       " 'further',\n",
       " 'then',\n",
       " 'once',\n",
       " 'here',\n",
       " 'there',\n",
       " 'when',\n",
       " 'where',\n",
       " 'why',\n",
       " 'how',\n",
       " 'all',\n",
       " 'any',\n",
       " 'both',\n",
       " 'each',\n",
       " 'few',\n",
       " 'more',\n",
       " 'most',\n",
       " 'other',\n",
       " 'some',\n",
       " 'such',\n",
       " 'no',\n",
       " 'nor',\n",
       " 'not',\n",
       " 'only',\n",
       " 'own',\n",
       " 'same',\n",
       " 'so',\n",
       " 'than',\n",
       " 'too',\n",
       " 'very',\n",
       " 's',\n",
       " 't',\n",
       " 'can',\n",
       " 'will',\n",
       " 'just',\n",
       " 'don',\n",
       " \"don't\",\n",
       " 'should',\n",
       " \"should've\",\n",
       " 'now',\n",
       " 'd',\n",
       " 'll',\n",
       " 'm',\n",
       " 'o',\n",
       " 're',\n",
       " 've',\n",
       " 'y',\n",
       " 'ain',\n",
       " 'aren',\n",
       " \"aren't\",\n",
       " 'couldn',\n",
       " \"couldn't\",\n",
       " 'didn',\n",
       " \"didn't\",\n",
       " 'doesn',\n",
       " \"doesn't\",\n",
       " 'hadn',\n",
       " \"hadn't\",\n",
       " 'hasn',\n",
       " \"hasn't\",\n",
       " 'haven',\n",
       " \"haven't\",\n",
       " 'isn',\n",
       " \"isn't\",\n",
       " 'ma',\n",
       " 'mightn',\n",
       " \"mightn't\",\n",
       " 'mustn',\n",
       " \"mustn't\",\n",
       " 'needn',\n",
       " \"needn't\",\n",
       " 'shan',\n",
       " \"shan't\",\n",
       " 'shouldn',\n",
       " \"shouldn't\",\n",
       " 'wasn',\n",
       " \"wasn't\",\n",
       " 'weren',\n",
       " \"weren't\",\n",
       " 'won',\n",
       " \"won't\",\n",
       " 'wouldn',\n",
       " \"wouldn't\"]"
      ]
     },
     "execution_count": 83,
     "metadata": {},
     "output_type": "execute_result"
    }
   ],
   "source": [
    "stopwords.words(\"english\")"
   ]
  },
  {
   "cell_type": "code",
   "execution_count": 96,
   "metadata": {
    "scrolled": true
   },
   "outputs": [
    {
     "data": {
      "text/plain": [
       "data        206\n",
       "science     109\n",
       "learning     98\n",
       "learn        64\n",
       "machine      59\n",
       "Learning     40\n",
       "Learn        40\n",
       "Data         36\n",
       "new          35\n",
       "interest     33\n",
       "dtype: int64"
      ]
     },
     "execution_count": 96,
     "metadata": {},
     "output_type": "execute_result"
    }
   ],
   "source": [
    "words_series = pd.Series(list(all_words))\n",
    "stop_words = stopwords.words(\"english\")\n",
    "stop_words += \"I\"\n",
    "words_series[~words_series.isin(stop_words)].value_counts().head(10)\n"
   ]
  },
  {
   "cell_type": "code",
   "execution_count": null,
   "metadata": {},
   "outputs": [],
   "source": []
  },
  {
   "cell_type": "code",
   "execution_count": 11,
   "metadata": {
    "scrolled": true
   },
   "outputs": [],
   "source": [
    "#создадим новую таблицу, состоящую из числовых данных\n",
    "num_data = pd.DataFrame({\"GenderSelect\": category_data[\"GenderSelect\"], \"Age\": category_data[\"Age\"],\n",
    "                         \"EmploymentStatus\": category_data[\"EmploymentStatus\"]})\n",
    "\n",
    "# нужные столбцы:\n",
    "names = {\n",
    "    \"CodeWriter\", \"CareerSwitcher\",\n",
    "    \"JobSkillImportanceBigData\", \"JobSkillImportanceDegree\", \"JobSkillImportanceStats\",\n",
    "    \"JobSkillImportanceEnterpriseTools\", \"JobSkillImportancePython\", \"JobSkillImportanceR\",\n",
    "    \"JobSkillImportanceSQL\", \"JobSkillImportanceMOOC\", \"JobSkillImportanceVisualizations\",\n",
    "    \"LearningPlatformUsefulnessBlogs\", \"LearningPlatformUsefulnessCollege\", \"LearningPlatformUsefulnessCompany\",\n",
    "    \"LearningPlatformUsefulnessConferences\", \"LearningPlatformUsefulnessFriends\",\n",
    "    \"LearningPlatformUsefulnessKaggle\", \"LearningPlatformUsefulnessCommunities\",\n",
    "    \"LearningPlatformUsefulnessDocumentation\", \"LearningPlatformUsefulnessCourses\",\n",
    "    \"LearningPlatformUsefulnessProjects\", \"LearningPlatformUsefulnessPodcasts\",\n",
    "    \"LearningPlatformUsefulnessSO\", \"LearningPlatformUsefulnessTextbook\", \"LearningPlatformUsefulnessTutoring\",\n",
    "    \"LearningPlatformUsefulnessYouTube\",\n",
    "    \"WorkToolsFrequencyAmazonML\", \"WorkToolsFrequencyAWS\",\n",
    "    \"WorkToolsFrequencyAngoss\", \"WorkToolsFrequencyC\", \"WorkToolsFrequencyJava\",\n",
    "    \"WorkToolsFrequencyJupyter\", \"WorkToolsFrequencyMATLAB\", \"WorkToolsFrequencyExcel\",\n",
    "    \"WorkToolsFrequencyNoSQL\", \"WorkToolsFrequencyPerl\", \"WorkToolsFrequencyPython\", \"WorkToolsFrequencyR\",\n",
    "    \"WorkToolsFrequencySQL\", \"WorkToolsFrequencyTensorFlow\", \"WorkToolsFrequencyUnix\",\n",
    "    \"WorkMethodsFrequencyA/B\", \"WorkMethodsFrequencyAssociationRules\", \"WorkMethodsFrequencyBayesian\",\n",
    "    \"WorkMethodsFrequencyCNNs\", \"WorkMethodsFrequencyCross-Validation\", \"WorkMethodsFrequencyCollaborativeFiltering\",\n",
    "    \"WorkMethodsFrequencyDataVisualization\", \"WorkMethodsFrequencyDecisionTrees\",\n",
    "    \"WorkMethodsFrequencyEnsembleMethods\", \"WorkMethodsFrequencyGANs\", \"WorkMethodsFrequencyGBM\",\n",
    "    \"WorkMethodsFrequencyHMMs\", \"WorkMethodsFrequencyKNN\", \"WorkMethodsFrequencyLogisticRegression\",\n",
    "    \"WorkMethodsFrequencyMLN\", \"WorkMethodsFrequencyNaiveBayes\", \"WorkMethodsFrequencyNLP\",\n",
    "    \"WorkMethodsFrequencyNeuralNetworks\", \"WorkMethodsFrequencyPCA\", \"WorkMethodsFrequencyRandomForests\",\n",
    "    \"WorkMethodsFrequencyRecommenderSystems\", \"WorkMethodsFrequencyRNNs\", \"WorkMethodsFrequencySegmentation\",\n",
    "    \"WorkMethodsFrequencySimulation\", \"WorkMethodsFrequencySVMs\", \"WorkMethodsFrequencyTextAnalysis\",\n",
    "    \"WorkMethodsFrequencyTimeSeriesAnalysis\"\n",
    "}\n",
    "\n",
    "for i in names:\n",
    "    num_data[i] = category_data[i]"
   ]
  },
  {
   "cell_type": "code",
   "execution_count": 19,
   "metadata": {},
   "outputs": [
    {
     "data": {
      "text/html": [
       "<div>\n",
       "<style scoped>\n",
       "    .dataframe tbody tr th:only-of-type {\n",
       "        vertical-align: middle;\n",
       "    }\n",
       "\n",
       "    .dataframe tbody tr th {\n",
       "        vertical-align: top;\n",
       "    }\n",
       "\n",
       "    .dataframe thead th {\n",
       "        text-align: right;\n",
       "    }\n",
       "</style>\n",
       "<table border=\"1\" class=\"dataframe\">\n",
       "  <thead>\n",
       "    <tr style=\"text-align: right;\">\n",
       "      <th></th>\n",
       "      <th>GenderSelect</th>\n",
       "      <th>Age</th>\n",
       "      <th>EmploymentStatus</th>\n",
       "      <th>WorkMethodsFrequencyCollaborativeFiltering</th>\n",
       "      <th>WorkMethodsFrequencyRNNs</th>\n",
       "      <th>JobSkillImportanceSQL</th>\n",
       "      <th>WorkMethodsFrequencyRecommenderSystems</th>\n",
       "      <th>LearningPlatformUsefulnessCommunities</th>\n",
       "      <th>WorkToolsFrequencyNoSQL</th>\n",
       "      <th>JobSkillImportanceEnterpriseTools</th>\n",
       "      <th>...</th>\n",
       "      <th>WorkMethodsFrequencyNLP</th>\n",
       "      <th>WorkMethodsFrequencyCNNs</th>\n",
       "      <th>WorkMethodsFrequencySimulation</th>\n",
       "      <th>WorkMethodsFrequencySegmentation</th>\n",
       "      <th>LearningPlatformUsefulnessCollege</th>\n",
       "      <th>JobSkillImportanceMOOC</th>\n",
       "      <th>CareerSwitcher</th>\n",
       "      <th>WorkToolsFrequencyTensorFlow</th>\n",
       "      <th>LearningPlatformUsefulnessTextbook</th>\n",
       "      <th>LearningPlatformUsefulnessPodcasts</th>\n",
       "    </tr>\n",
       "  </thead>\n",
       "  <tbody>\n",
       "    <tr>\n",
       "      <th>0</th>\n",
       "      <td>NaN</td>\n",
       "      <td>NaN</td>\n",
       "      <td>1</td>\n",
       "      <td>2.0</td>\n",
       "      <td>NaN</td>\n",
       "      <td>NaN</td>\n",
       "      <td>NaN</td>\n",
       "      <td>NaN</td>\n",
       "      <td>NaN</td>\n",
       "      <td>NaN</td>\n",
       "      <td>...</td>\n",
       "      <td>NaN</td>\n",
       "      <td>NaN</td>\n",
       "      <td>NaN</td>\n",
       "      <td>NaN</td>\n",
       "      <td>NaN</td>\n",
       "      <td>NaN</td>\n",
       "      <td>NaN</td>\n",
       "      <td>NaN</td>\n",
       "      <td>NaN</td>\n",
       "      <td>2.0</td>\n",
       "    </tr>\n",
       "    <tr>\n",
       "      <th>1</th>\n",
       "      <td>1.0</td>\n",
       "      <td>30.0</td>\n",
       "      <td>0</td>\n",
       "      <td>NaN</td>\n",
       "      <td>NaN</td>\n",
       "      <td>2.0</td>\n",
       "      <td>NaN</td>\n",
       "      <td>NaN</td>\n",
       "      <td>NaN</td>\n",
       "      <td>NaN</td>\n",
       "      <td>...</td>\n",
       "      <td>NaN</td>\n",
       "      <td>NaN</td>\n",
       "      <td>NaN</td>\n",
       "      <td>NaN</td>\n",
       "      <td>NaN</td>\n",
       "      <td>NaN</td>\n",
       "      <td>NaN</td>\n",
       "      <td>NaN</td>\n",
       "      <td>NaN</td>\n",
       "      <td>NaN</td>\n",
       "    </tr>\n",
       "    <tr>\n",
       "      <th>2</th>\n",
       "      <td>0.0</td>\n",
       "      <td>28.0</td>\n",
       "      <td>0</td>\n",
       "      <td>NaN</td>\n",
       "      <td>NaN</td>\n",
       "      <td>NaN</td>\n",
       "      <td>NaN</td>\n",
       "      <td>NaN</td>\n",
       "      <td>NaN</td>\n",
       "      <td>NaN</td>\n",
       "      <td>...</td>\n",
       "      <td>NaN</td>\n",
       "      <td>NaN</td>\n",
       "      <td>NaN</td>\n",
       "      <td>NaN</td>\n",
       "      <td>1.0</td>\n",
       "      <td>NaN</td>\n",
       "      <td>NaN</td>\n",
       "      <td>NaN</td>\n",
       "      <td>NaN</td>\n",
       "      <td>NaN</td>\n",
       "    </tr>\n",
       "    <tr>\n",
       "      <th>3</th>\n",
       "      <td>0.0</td>\n",
       "      <td>56.0</td>\n",
       "      <td>2</td>\n",
       "      <td>NaN</td>\n",
       "      <td>NaN</td>\n",
       "      <td>NaN</td>\n",
       "      <td>NaN</td>\n",
       "      <td>NaN</td>\n",
       "      <td>0.0</td>\n",
       "      <td>NaN</td>\n",
       "      <td>...</td>\n",
       "      <td>NaN</td>\n",
       "      <td>NaN</td>\n",
       "      <td>2.0</td>\n",
       "      <td>NaN</td>\n",
       "      <td>2.0</td>\n",
       "      <td>NaN</td>\n",
       "      <td>NaN</td>\n",
       "      <td>NaN</td>\n",
       "      <td>NaN</td>\n",
       "      <td>NaN</td>\n",
       "    </tr>\n",
       "    <tr>\n",
       "      <th>4</th>\n",
       "      <td>0.0</td>\n",
       "      <td>38.0</td>\n",
       "      <td>1</td>\n",
       "      <td>1.0</td>\n",
       "      <td>1.0</td>\n",
       "      <td>NaN</td>\n",
       "      <td>NaN</td>\n",
       "      <td>NaN</td>\n",
       "      <td>NaN</td>\n",
       "      <td>NaN</td>\n",
       "      <td>...</td>\n",
       "      <td>NaN</td>\n",
       "      <td>3.0</td>\n",
       "      <td>NaN</td>\n",
       "      <td>2.0</td>\n",
       "      <td>NaN</td>\n",
       "      <td>NaN</td>\n",
       "      <td>NaN</td>\n",
       "      <td>1.0</td>\n",
       "      <td>1.0</td>\n",
       "      <td>NaN</td>\n",
       "    </tr>\n",
       "    <tr>\n",
       "      <th>...</th>\n",
       "      <td>...</td>\n",
       "      <td>...</td>\n",
       "      <td>...</td>\n",
       "      <td>...</td>\n",
       "      <td>...</td>\n",
       "      <td>...</td>\n",
       "      <td>...</td>\n",
       "      <td>...</td>\n",
       "      <td>...</td>\n",
       "      <td>...</td>\n",
       "      <td>...</td>\n",
       "      <td>...</td>\n",
       "      <td>...</td>\n",
       "      <td>...</td>\n",
       "      <td>...</td>\n",
       "      <td>...</td>\n",
       "      <td>...</td>\n",
       "      <td>...</td>\n",
       "      <td>...</td>\n",
       "      <td>...</td>\n",
       "      <td>...</td>\n",
       "    </tr>\n",
       "    <tr>\n",
       "      <th>16711</th>\n",
       "      <td>1.0</td>\n",
       "      <td>24.0</td>\n",
       "      <td>0</td>\n",
       "      <td>NaN</td>\n",
       "      <td>NaN</td>\n",
       "      <td>NaN</td>\n",
       "      <td>NaN</td>\n",
       "      <td>NaN</td>\n",
       "      <td>NaN</td>\n",
       "      <td>NaN</td>\n",
       "      <td>...</td>\n",
       "      <td>NaN</td>\n",
       "      <td>NaN</td>\n",
       "      <td>NaN</td>\n",
       "      <td>NaN</td>\n",
       "      <td>NaN</td>\n",
       "      <td>NaN</td>\n",
       "      <td>NaN</td>\n",
       "      <td>NaN</td>\n",
       "      <td>NaN</td>\n",
       "      <td>NaN</td>\n",
       "    </tr>\n",
       "    <tr>\n",
       "      <th>16712</th>\n",
       "      <td>0.0</td>\n",
       "      <td>25.0</td>\n",
       "      <td>1</td>\n",
       "      <td>NaN</td>\n",
       "      <td>NaN</td>\n",
       "      <td>NaN</td>\n",
       "      <td>NaN</td>\n",
       "      <td>1.0</td>\n",
       "      <td>NaN</td>\n",
       "      <td>NaN</td>\n",
       "      <td>...</td>\n",
       "      <td>NaN</td>\n",
       "      <td>NaN</td>\n",
       "      <td>NaN</td>\n",
       "      <td>NaN</td>\n",
       "      <td>NaN</td>\n",
       "      <td>NaN</td>\n",
       "      <td>NaN</td>\n",
       "      <td>NaN</td>\n",
       "      <td>NaN</td>\n",
       "      <td>NaN</td>\n",
       "    </tr>\n",
       "    <tr>\n",
       "      <th>16713</th>\n",
       "      <td>1.0</td>\n",
       "      <td>25.0</td>\n",
       "      <td>4</td>\n",
       "      <td>NaN</td>\n",
       "      <td>NaN</td>\n",
       "      <td>NaN</td>\n",
       "      <td>NaN</td>\n",
       "      <td>NaN</td>\n",
       "      <td>NaN</td>\n",
       "      <td>NaN</td>\n",
       "      <td>...</td>\n",
       "      <td>NaN</td>\n",
       "      <td>NaN</td>\n",
       "      <td>NaN</td>\n",
       "      <td>NaN</td>\n",
       "      <td>NaN</td>\n",
       "      <td>NaN</td>\n",
       "      <td>1.0</td>\n",
       "      <td>NaN</td>\n",
       "      <td>NaN</td>\n",
       "      <td>NaN</td>\n",
       "    </tr>\n",
       "    <tr>\n",
       "      <th>16714</th>\n",
       "      <td>1.0</td>\n",
       "      <td>16.0</td>\n",
       "      <td>6</td>\n",
       "      <td>NaN</td>\n",
       "      <td>NaN</td>\n",
       "      <td>NaN</td>\n",
       "      <td>NaN</td>\n",
       "      <td>NaN</td>\n",
       "      <td>NaN</td>\n",
       "      <td>NaN</td>\n",
       "      <td>...</td>\n",
       "      <td>NaN</td>\n",
       "      <td>NaN</td>\n",
       "      <td>NaN</td>\n",
       "      <td>NaN</td>\n",
       "      <td>NaN</td>\n",
       "      <td>NaN</td>\n",
       "      <td>NaN</td>\n",
       "      <td>NaN</td>\n",
       "      <td>NaN</td>\n",
       "      <td>NaN</td>\n",
       "    </tr>\n",
       "    <tr>\n",
       "      <th>16715</th>\n",
       "      <td>0.0</td>\n",
       "      <td>27.0</td>\n",
       "      <td>1</td>\n",
       "      <td>NaN</td>\n",
       "      <td>NaN</td>\n",
       "      <td>NaN</td>\n",
       "      <td>NaN</td>\n",
       "      <td>NaN</td>\n",
       "      <td>NaN</td>\n",
       "      <td>NaN</td>\n",
       "      <td>...</td>\n",
       "      <td>NaN</td>\n",
       "      <td>NaN</td>\n",
       "      <td>NaN</td>\n",
       "      <td>NaN</td>\n",
       "      <td>NaN</td>\n",
       "      <td>NaN</td>\n",
       "      <td>1.0</td>\n",
       "      <td>NaN</td>\n",
       "      <td>NaN</td>\n",
       "      <td>NaN</td>\n",
       "    </tr>\n",
       "  </tbody>\n",
       "</table>\n",
       "<p>16716 rows × 71 columns</p>\n",
       "</div>"
      ],
      "text/plain": [
       "       GenderSelect   Age  EmploymentStatus  \\\n",
       "0               NaN   NaN                 1   \n",
       "1               1.0  30.0                 0   \n",
       "2               0.0  28.0                 0   \n",
       "3               0.0  56.0                 2   \n",
       "4               0.0  38.0                 1   \n",
       "...             ...   ...               ...   \n",
       "16711           1.0  24.0                 0   \n",
       "16712           0.0  25.0                 1   \n",
       "16713           1.0  25.0                 4   \n",
       "16714           1.0  16.0                 6   \n",
       "16715           0.0  27.0                 1   \n",
       "\n",
       "       WorkMethodsFrequencyCollaborativeFiltering  WorkMethodsFrequencyRNNs  \\\n",
       "0                                             2.0                       NaN   \n",
       "1                                             NaN                       NaN   \n",
       "2                                             NaN                       NaN   \n",
       "3                                             NaN                       NaN   \n",
       "4                                             1.0                       1.0   \n",
       "...                                           ...                       ...   \n",
       "16711                                         NaN                       NaN   \n",
       "16712                                         NaN                       NaN   \n",
       "16713                                         NaN                       NaN   \n",
       "16714                                         NaN                       NaN   \n",
       "16715                                         NaN                       NaN   \n",
       "\n",
       "       JobSkillImportanceSQL  WorkMethodsFrequencyRecommenderSystems  \\\n",
       "0                        NaN                                     NaN   \n",
       "1                        2.0                                     NaN   \n",
       "2                        NaN                                     NaN   \n",
       "3                        NaN                                     NaN   \n",
       "4                        NaN                                     NaN   \n",
       "...                      ...                                     ...   \n",
       "16711                    NaN                                     NaN   \n",
       "16712                    NaN                                     NaN   \n",
       "16713                    NaN                                     NaN   \n",
       "16714                    NaN                                     NaN   \n",
       "16715                    NaN                                     NaN   \n",
       "\n",
       "       LearningPlatformUsefulnessCommunities  WorkToolsFrequencyNoSQL  \\\n",
       "0                                        NaN                      NaN   \n",
       "1                                        NaN                      NaN   \n",
       "2                                        NaN                      NaN   \n",
       "3                                        NaN                      0.0   \n",
       "4                                        NaN                      NaN   \n",
       "...                                      ...                      ...   \n",
       "16711                                    NaN                      NaN   \n",
       "16712                                    1.0                      NaN   \n",
       "16713                                    NaN                      NaN   \n",
       "16714                                    NaN                      NaN   \n",
       "16715                                    NaN                      NaN   \n",
       "\n",
       "       JobSkillImportanceEnterpriseTools  ...  WorkMethodsFrequencyNLP  \\\n",
       "0                                    NaN  ...                      NaN   \n",
       "1                                    NaN  ...                      NaN   \n",
       "2                                    NaN  ...                      NaN   \n",
       "3                                    NaN  ...                      NaN   \n",
       "4                                    NaN  ...                      NaN   \n",
       "...                                  ...  ...                      ...   \n",
       "16711                                NaN  ...                      NaN   \n",
       "16712                                NaN  ...                      NaN   \n",
       "16713                                NaN  ...                      NaN   \n",
       "16714                                NaN  ...                      NaN   \n",
       "16715                                NaN  ...                      NaN   \n",
       "\n",
       "       WorkMethodsFrequencyCNNs  WorkMethodsFrequencySimulation  \\\n",
       "0                           NaN                             NaN   \n",
       "1                           NaN                             NaN   \n",
       "2                           NaN                             NaN   \n",
       "3                           NaN                             2.0   \n",
       "4                           3.0                             NaN   \n",
       "...                         ...                             ...   \n",
       "16711                       NaN                             NaN   \n",
       "16712                       NaN                             NaN   \n",
       "16713                       NaN                             NaN   \n",
       "16714                       NaN                             NaN   \n",
       "16715                       NaN                             NaN   \n",
       "\n",
       "       WorkMethodsFrequencySegmentation  LearningPlatformUsefulnessCollege  \\\n",
       "0                                   NaN                                NaN   \n",
       "1                                   NaN                                NaN   \n",
       "2                                   NaN                                1.0   \n",
       "3                                   NaN                                2.0   \n",
       "4                                   2.0                                NaN   \n",
       "...                                 ...                                ...   \n",
       "16711                               NaN                                NaN   \n",
       "16712                               NaN                                NaN   \n",
       "16713                               NaN                                NaN   \n",
       "16714                               NaN                                NaN   \n",
       "16715                               NaN                                NaN   \n",
       "\n",
       "       JobSkillImportanceMOOC  CareerSwitcher  WorkToolsFrequencyTensorFlow  \\\n",
       "0                         NaN             NaN                           NaN   \n",
       "1                         NaN             NaN                           NaN   \n",
       "2                         NaN             NaN                           NaN   \n",
       "3                         NaN             NaN                           NaN   \n",
       "4                         NaN             NaN                           1.0   \n",
       "...                       ...             ...                           ...   \n",
       "16711                     NaN             NaN                           NaN   \n",
       "16712                     NaN             NaN                           NaN   \n",
       "16713                     NaN             1.0                           NaN   \n",
       "16714                     NaN             NaN                           NaN   \n",
       "16715                     NaN             1.0                           NaN   \n",
       "\n",
       "       LearningPlatformUsefulnessTextbook  LearningPlatformUsefulnessPodcasts  \n",
       "0                                     NaN                                 2.0  \n",
       "1                                     NaN                                 NaN  \n",
       "2                                     NaN                                 NaN  \n",
       "3                                     NaN                                 NaN  \n",
       "4                                     1.0                                 NaN  \n",
       "...                                   ...                                 ...  \n",
       "16711                                 NaN                                 NaN  \n",
       "16712                                 NaN                                 NaN  \n",
       "16713                                 NaN                                 NaN  \n",
       "16714                                 NaN                                 NaN  \n",
       "16715                                 NaN                                 NaN  \n",
       "\n",
       "[16716 rows x 71 columns]"
      ]
     },
     "execution_count": 19,
     "metadata": {},
     "output_type": "execute_result"
    }
   ],
   "source": [
    "num_data"
   ]
  },
  {
   "cell_type": "code",
   "execution_count": 35,
   "metadata": {},
   "outputs": [],
   "source": [
    "num_data1 = pd.DataFrame({\"GenderSelect\": category_data[\"GenderSelect\"], \"Age\": category_data[\"Age\"],\n",
    "                         \"EmploymentStatus\": category_data[\"EmploymentStatus\"],\n",
    "                         \"CodeWriter\": category_data[\"CodeWriter\"],\n",
    "                         \"WorkToolsFrequencyPython\": category_data[\"WorkToolsFrequencyPython\"], \n",
    "                         \"LearningPlatformUsefulnessCourses\": category_data[\"LearningPlatformUsefulnessCourses\"], \n",
    "                         \"LearningPlatformUsefulnessKaggle\": category_data[\"LearningPlatformUsefulnessKaggle\"]})"
   ]
  },
  {
   "cell_type": "code",
   "execution_count": 126,
   "metadata": {},
   "outputs": [
    {
     "data": {
      "text/plain": [
       "0"
      ]
     },
     "execution_count": 126,
     "metadata": {},
     "output_type": "execute_result"
    }
   ],
   "source": [
    "num_data1[\"Age\"].isnull().sum()"
   ]
  },
  {
   "cell_type": "code",
   "execution_count": 36,
   "metadata": {},
   "outputs": [],
   "source": [
    "num_data1 = num_data1.dropna(axis='index', how='any')"
   ]
  },
  {
   "cell_type": "code",
   "execution_count": 37,
   "metadata": {},
   "outputs": [
    {
     "data": {
      "text/html": [
       "<div>\n",
       "<style scoped>\n",
       "    .dataframe tbody tr th:only-of-type {\n",
       "        vertical-align: middle;\n",
       "    }\n",
       "\n",
       "    .dataframe tbody tr th {\n",
       "        vertical-align: top;\n",
       "    }\n",
       "\n",
       "    .dataframe thead th {\n",
       "        text-align: right;\n",
       "    }\n",
       "</style>\n",
       "<table border=\"1\" class=\"dataframe\">\n",
       "  <thead>\n",
       "    <tr style=\"text-align: right;\">\n",
       "      <th></th>\n",
       "      <th>GenderSelect</th>\n",
       "      <th>Age</th>\n",
       "      <th>EmploymentStatus</th>\n",
       "      <th>CodeWriter</th>\n",
       "      <th>WorkToolsFrequencyPython</th>\n",
       "      <th>LearningPlatformUsefulnessCourses</th>\n",
       "      <th>LearningPlatformUsefulnessKaggle</th>\n",
       "    </tr>\n",
       "  </thead>\n",
       "  <tbody>\n",
       "    <tr>\n",
       "      <th>5</th>\n",
       "      <td>0.0</td>\n",
       "      <td>46.0</td>\n",
       "      <td>1</td>\n",
       "      <td>1.0</td>\n",
       "      <td>3.0</td>\n",
       "      <td>2.0</td>\n",
       "      <td>2.0</td>\n",
       "    </tr>\n",
       "    <tr>\n",
       "      <th>9</th>\n",
       "      <td>0.0</td>\n",
       "      <td>33.0</td>\n",
       "      <td>1</td>\n",
       "      <td>1.0</td>\n",
       "      <td>3.0</td>\n",
       "      <td>2.0</td>\n",
       "      <td>1.0</td>\n",
       "    </tr>\n",
       "    <tr>\n",
       "      <th>14</th>\n",
       "      <td>0.0</td>\n",
       "      <td>26.0</td>\n",
       "      <td>1</td>\n",
       "      <td>1.0</td>\n",
       "      <td>3.0</td>\n",
       "      <td>2.0</td>\n",
       "      <td>2.0</td>\n",
       "    </tr>\n",
       "    <tr>\n",
       "      <th>23</th>\n",
       "      <td>0.0</td>\n",
       "      <td>21.0</td>\n",
       "      <td>4</td>\n",
       "      <td>1.0</td>\n",
       "      <td>3.0</td>\n",
       "      <td>2.0</td>\n",
       "      <td>1.0</td>\n",
       "    </tr>\n",
       "    <tr>\n",
       "      <th>31</th>\n",
       "      <td>0.0</td>\n",
       "      <td>29.0</td>\n",
       "      <td>1</td>\n",
       "      <td>1.0</td>\n",
       "      <td>2.0</td>\n",
       "      <td>2.0</td>\n",
       "      <td>1.0</td>\n",
       "    </tr>\n",
       "    <tr>\n",
       "      <th>...</th>\n",
       "      <td>...</td>\n",
       "      <td>...</td>\n",
       "      <td>...</td>\n",
       "      <td>...</td>\n",
       "      <td>...</td>\n",
       "      <td>...</td>\n",
       "      <td>...</td>\n",
       "    </tr>\n",
       "    <tr>\n",
       "      <th>16394</th>\n",
       "      <td>0.0</td>\n",
       "      <td>32.0</td>\n",
       "      <td>4</td>\n",
       "      <td>1.0</td>\n",
       "      <td>3.0</td>\n",
       "      <td>2.0</td>\n",
       "      <td>1.0</td>\n",
       "    </tr>\n",
       "    <tr>\n",
       "      <th>16507</th>\n",
       "      <td>0.0</td>\n",
       "      <td>56.0</td>\n",
       "      <td>1</td>\n",
       "      <td>1.0</td>\n",
       "      <td>1.0</td>\n",
       "      <td>2.0</td>\n",
       "      <td>1.0</td>\n",
       "    </tr>\n",
       "    <tr>\n",
       "      <th>16517</th>\n",
       "      <td>0.0</td>\n",
       "      <td>34.0</td>\n",
       "      <td>1</td>\n",
       "      <td>1.0</td>\n",
       "      <td>3.0</td>\n",
       "      <td>2.0</td>\n",
       "      <td>1.0</td>\n",
       "    </tr>\n",
       "    <tr>\n",
       "      <th>16687</th>\n",
       "      <td>0.0</td>\n",
       "      <td>55.0</td>\n",
       "      <td>2</td>\n",
       "      <td>1.0</td>\n",
       "      <td>1.0</td>\n",
       "      <td>2.0</td>\n",
       "      <td>2.0</td>\n",
       "    </tr>\n",
       "    <tr>\n",
       "      <th>16712</th>\n",
       "      <td>0.0</td>\n",
       "      <td>25.0</td>\n",
       "      <td>1</td>\n",
       "      <td>1.0</td>\n",
       "      <td>3.0</td>\n",
       "      <td>1.0</td>\n",
       "      <td>1.0</td>\n",
       "    </tr>\n",
       "  </tbody>\n",
       "</table>\n",
       "<p>1861 rows × 7 columns</p>\n",
       "</div>"
      ],
      "text/plain": [
       "       GenderSelect   Age  EmploymentStatus  CodeWriter  \\\n",
       "5               0.0  46.0                 1         1.0   \n",
       "9               0.0  33.0                 1         1.0   \n",
       "14              0.0  26.0                 1         1.0   \n",
       "23              0.0  21.0                 4         1.0   \n",
       "31              0.0  29.0                 1         1.0   \n",
       "...             ...   ...               ...         ...   \n",
       "16394           0.0  32.0                 4         1.0   \n",
       "16507           0.0  56.0                 1         1.0   \n",
       "16517           0.0  34.0                 1         1.0   \n",
       "16687           0.0  55.0                 2         1.0   \n",
       "16712           0.0  25.0                 1         1.0   \n",
       "\n",
       "       WorkToolsFrequencyPython  LearningPlatformUsefulnessCourses  \\\n",
       "5                           3.0                                2.0   \n",
       "9                           3.0                                2.0   \n",
       "14                          3.0                                2.0   \n",
       "23                          3.0                                2.0   \n",
       "31                          2.0                                2.0   \n",
       "...                         ...                                ...   \n",
       "16394                       3.0                                2.0   \n",
       "16507                       1.0                                2.0   \n",
       "16517                       3.0                                2.0   \n",
       "16687                       1.0                                2.0   \n",
       "16712                       3.0                                1.0   \n",
       "\n",
       "       LearningPlatformUsefulnessKaggle  \n",
       "5                                   2.0  \n",
       "9                                   1.0  \n",
       "14                                  2.0  \n",
       "23                                  1.0  \n",
       "31                                  1.0  \n",
       "...                                 ...  \n",
       "16394                               1.0  \n",
       "16507                               1.0  \n",
       "16517                               1.0  \n",
       "16687                               2.0  \n",
       "16712                               1.0  \n",
       "\n",
       "[1861 rows x 7 columns]"
      ]
     },
     "execution_count": 37,
     "metadata": {},
     "output_type": "execute_result"
    }
   ],
   "source": [
    "num_data1"
   ]
  },
  {
   "cell_type": "code",
   "execution_count": null,
   "metadata": {},
   "outputs": [],
   "source": [
    "from sklearn.manifold import TSNE\n",
    "tsne = TSNE(random_state=0)"
   ]
  },
  {
   "cell_type": "code",
   "execution_count": 116,
   "metadata": {},
   "outputs": [
    {
     "data": {
      "text/plain": [
       "TSNE(random_state=0)"
      ]
     },
     "execution_count": 116,
     "metadata": {},
     "output_type": "execute_result"
    }
   ],
   "source": [
    "tsne.fit(num_data1)"
   ]
  },
  {
   "cell_type": "code",
   "execution_count": 112,
   "metadata": {},
   "outputs": [
    {
     "data": {
      "image/png": "[encoded data removed]",
      "text/plain": [
       "<Figure size 432x288 with 1 Axes>"
      ]
     },
     "metadata": {
      "needs_background": "light"
     },
     "output_type": "display_data"
    }
   ],
   "source": [
    "plt.scatter(tsne.embedding_[:, 0],tsne.embedding_[:, 1]);"
   ]
  },
  {
   "cell_type": "code",
   "execution_count": 117,
   "metadata": {},
   "outputs": [
    {
     "data": {
      "image/png": "[encoded data removed]",
      "text/plain": [
       "<Figure size 432x288 with 1 Axes>"
      ]
     },
     "metadata": {
      "needs_background": "light"
     },
     "output_type": "display_data"
    }
   ],
   "source": [
    "plt.scatter(tsne.embedding_[:, 0],tsne.embedding_[:, 1]);"
   ]
  },
  {
   "cell_type": "code",
   "execution_count": 26,
   "metadata": {},
   "outputs": [
    {
     "name": "stdout",
     "output_type": "stream",
     "text": [
      "\"WorkToolsFrequencyPython\", \n",
      "\"LearningPlatformUsefulnessCourses\", \n",
      "\"LearningPlatformUsefulnessKaggle\", \n",
      "\"CodeWriter\", \n"
     ]
    }
   ],
   "source": [
    "names = {\n",
    "    \"CodeWriter\", \"CareerSwitcher\",\n",
    "    \"JobSkillImportanceBigData\", \"JobSkillImportanceDegree\", \"JobSkillImportanceStats\",\n",
    "    \"JobSkillImportanceEnterpriseTools\", \"JobSkillImportancePython\", \"JobSkillImportanceR\",\n",
    "    \"JobSkillImportanceSQL\", \"JobSkillImportanceMOOC\", \"JobSkillImportanceVisualizations\",\n",
    "    \"LearningPlatformUsefulnessBlogs\", \"LearningPlatformUsefulnessCollege\", \"LearningPlatformUsefulnessCompany\",\n",
    "    \"LearningPlatformUsefulnessConferences\", \"LearningPlatformUsefulnessFriends\",\n",
    "    \"LearningPlatformUsefulnessKaggle\", \"LearningPlatformUsefulnessCommunities\",\n",
    "    \"LearningPlatformUsefulnessDocumentation\", \"LearningPlatformUsefulnessCourses\",\n",
    "    \"LearningPlatformUsefulnessProjects\", \"LearningPlatformUsefulnessPodcasts\",\n",
    "    \"LearningPlatformUsefulnessSO\", \"LearningPlatformUsefulnessTextbook\", \"LearningPlatformUsefulnessTutoring\",\n",
    "    \"LearningPlatformUsefulnessYouTube\",\n",
    "    \"WorkToolsFrequencyAmazonML\", \"WorkToolsFrequencyAWS\",\n",
    "    \"WorkToolsFrequencyAngoss\", \"WorkToolsFrequencyC\", \"WorkToolsFrequencyJava\",\n",
    "    \"WorkToolsFrequencyJupyter\", \"WorkToolsFrequencyMATLAB\", \"WorkToolsFrequencyExcel\",\n",
    "    \"WorkToolsFrequencyNoSQL\", \"WorkToolsFrequencyPerl\", \"WorkToolsFrequencyPython\", \"WorkToolsFrequencyR\",\n",
    "    \"WorkToolsFrequencySQL\", \"WorkToolsFrequencyTensorFlow\", \"WorkToolsFrequencyUnix\",\n",
    "    \"WorkMethodsFrequencyA/B\", \"WorkMethodsFrequencyAssociationRules\", \"WorkMethodsFrequencyBayesian\",\n",
    "    \"WorkMethodsFrequencyCNNs\", \"WorkMethodsFrequencyCross-Validation\", \"WorkMethodsFrequencyCollaborativeFiltering\",\n",
    "    \"WorkMethodsFrequencyDataVisualization\", \"WorkMethodsFrequencyDecisionTrees\",\n",
    "    \"WorkMethodsFrequencyEnsembleMethods\", \"WorkMethodsFrequencyGANs\", \"WorkMethodsFrequencyGBM\",\n",
    "    \"WorkMethodsFrequencyHMMs\", \"WorkMethodsFrequencyKNN\", \"WorkMethodsFrequencyLogisticRegression\",\n",
    "    \"WorkMethodsFrequencyMLN\", \"WorkMethodsFrequencyNaiveBayes\", \"WorkMethodsFrequencyNLP\",\n",
    "    \"WorkMethodsFrequencyNeuralNetworks\", \"WorkMethodsFrequencyPCA\", \"WorkMethodsFrequencyRandomForests\",\n",
    "    \"WorkMethodsFrequencyRecommenderSystems\", \"WorkMethodsFrequencyRNNs\", \"WorkMethodsFrequencySegmentation\",\n",
    "    \"WorkMethodsFrequencySimulation\", \"WorkMethodsFrequencySVMs\", \"WorkMethodsFrequencyTextAnalysis\",\n",
    "    \"WorkMethodsFrequencyTimeSeriesAnalysis\"\n",
    "}\n",
    "\n",
    "for i in names:\n",
    "    if num_data[i].isnull().sum() < 11000:\n",
    "        print('\"' + i + '\", ')"
   ]
  },
  {
   "cell_type": "code",
   "execution_count": null,
   "metadata": {},
   "outputs": [],
   "source": [
    "WorkMethodsFrequencyDataVisualization 11810\n",
    "LearningPlatformUsefulnessProjects 11922\n",
    "LearningPlatformUsefulnessBlogs 11951\n",
    "LearningPlatformUsefulnessSO 11076\n",
    "WorkToolsFrequencyPython 10726\n",
    "CodeWriter 3530\n",
    "LearningPlatformUsefulnessKaggle 10133\n",
    "LearningPlatformUsefulnessCourses 10724\n",
    "LearningPlatformUsefulnessYouTube 11487"
   ]
  },
  {
   "cell_type": "code",
   "execution_count": 14,
   "metadata": {},
   "outputs": [],
   "source": [
    "num_data2 = pd.DataFrame({\"GenderSelect\": category_data[\"GenderSelect\"], \"Age\": category_data[\"Age\"],\n",
    "                         \"EmploymentStatus\": category_data[\"EmploymentStatus\"], \n",
    "                         \"CodeWriter\": category_data[\"CodeWriter\"]})\n",
    "names = {\n",
    "    \"WorkMethodsFrequencyDataVisualization\", \n",
    "\"LearningPlatformUsefulnessProjects\", \n",
    "\"LearningPlatformUsefulnessBlogs\", \n",
    "\"LearningPlatformUsefulnessSO\", \n",
    "\"WorkToolsFrequencyPython\", \n",
    "\"CodeWriter\", \n",
    "\"LearningPlatformUsefulnessKaggle\", \n",
    "\"LearningPlatformUsefulnessCourses\", \n",
    "\"LearningPlatformUsefulnessYouTube\", \n",
    "}\n",
    "\n",
    "for i in names:\n",
    "    num_data2[i] = category_data[i]"
   ]
  },
  {
   "cell_type": "code",
   "execution_count": 15,
   "metadata": {},
   "outputs": [],
   "source": [
    "num_data2 = num_data2.dropna(axis='index', how='any')"
   ]
  },
  {
   "cell_type": "code",
   "execution_count": 180,
   "metadata": {},
   "outputs": [
    {
     "data": {
      "text/plain": [
       "GenderSelect                               0\n",
       "Age                                        0\n",
       "EmploymentStatus                           0\n",
       "CodeWriter                                 0\n",
       "WorkToolsFrequencyJupyter                  0\n",
       "WorkMethodsFrequencyDecisionTrees          0\n",
       "WorkMethodsFrequencyDataVisualization      0\n",
       "LearningPlatformUsefulnessProjects         0\n",
       "WorkToolsFrequencyTensorFlow               0\n",
       "LearningPlatformUsefulnessDocumentation    0\n",
       "WorkMethodsFrequencySegmentation           0\n",
       "LearningPlatformUsefulnessBlogs            0\n",
       "LearningPlatformUsefulnessSO               0\n",
       "JobSkillImportanceStats                    0\n",
       "WorkMethodsFrequencyLogisticRegression     0\n",
       "CareerSwitcher                             0\n",
       "WorkMethodsFrequencyRandomForests          0\n",
       "JobSkillImportanceVisualizations           0\n",
       "JobSkillImportanceBigData                  0\n",
       "JobSkillImportanceMOOC                     0\n",
       "WorkToolsFrequencyPython                   0\n",
       "JobSkillImportanceSQL                      0\n",
       "WorkMethodsFrequencyNeuralNetworks         0\n",
       "WorkMethodsFrequencyNLP                    0\n",
       "JobSkillImportancePython                   0\n",
       "WorkToolsFrequencySQL                      0\n",
       "JobSkillImportanceR                        0\n",
       "WorkToolsFrequencyUnix                     0\n",
       "WorkMethodsFrequencyBayesian               0\n",
       "WorkMethodsFrequencyKNN                    0\n",
       "WorkMethodsFrequencyTextAnalysis           0\n",
       "WorkMethodsFrequencyTimeSeriesAnalysis     0\n",
       "LearningPlatformUsefulnessCollege          0\n",
       "WorkMethodsFrequencyCross-Validation       0\n",
       "JobSkillImportanceEnterpriseTools          0\n",
       "WorkMethodsFrequencyA/B                    0\n",
       "LearningPlatformUsefulnessKaggle           0\n",
       "LearningPlatformUsefulnessConferences      0\n",
       "LearningPlatformUsefulnessCourses          0\n",
       "WorkToolsFrequencyAWS                      0\n",
       "WorkMethodsFrequencyEnsembleMethods        0\n",
       "WorkMethodsFrequencyNaiveBayes             0\n",
       "LearningPlatformUsefulnessYouTube          0\n",
       "LearningPlatformUsefulnessTextbook         0\n",
       "WorkToolsFrequencyR                        0\n",
       "WorkMethodsFrequencyPCA                    0\n",
       "JobSkillImportanceDegree                   0\n",
       "WorkMethodsFrequencySVMs                   0\n",
       "dtype: int64"
      ]
     },
     "execution_count": 180,
     "metadata": {},
     "output_type": "execute_result"
    }
   ],
   "source": [
    "num_data2.isnull().sum()"
   ]
  },
  {
   "cell_type": "code",
   "execution_count": 16,
   "metadata": {},
   "outputs": [
    {
     "data": {
      "text/html": [
       "<div>\n",
       "<style scoped>\n",
       "    .dataframe tbody tr th:only-of-type {\n",
       "        vertical-align: middle;\n",
       "    }\n",
       "\n",
       "    .dataframe tbody tr th {\n",
       "        vertical-align: top;\n",
       "    }\n",
       "\n",
       "    .dataframe thead th {\n",
       "        text-align: right;\n",
       "    }\n",
       "</style>\n",
       "<table border=\"1\" class=\"dataframe\">\n",
       "  <thead>\n",
       "    <tr style=\"text-align: right;\">\n",
       "      <th></th>\n",
       "      <th>GenderSelect</th>\n",
       "      <th>Age</th>\n",
       "      <th>EmploymentStatus</th>\n",
       "      <th>CodeWriter</th>\n",
       "      <th>LearningPlatformUsefulnessYouTube</th>\n",
       "      <th>LearningPlatformUsefulnessKaggle</th>\n",
       "      <th>LearningPlatformUsefulnessProjects</th>\n",
       "      <th>LearningPlatformUsefulnessBlogs</th>\n",
       "      <th>WorkToolsFrequencyPython</th>\n",
       "      <th>LearningPlatformUsefulnessSO</th>\n",
       "      <th>WorkMethodsFrequencyDataVisualization</th>\n",
       "      <th>LearningPlatformUsefulnessCourses</th>\n",
       "    </tr>\n",
       "  </thead>\n",
       "  <tbody>\n",
       "    <tr>\n",
       "      <th>9</th>\n",
       "      <td>0.0</td>\n",
       "      <td>33.0</td>\n",
       "      <td>1</td>\n",
       "      <td>1.0</td>\n",
       "      <td>1.0</td>\n",
       "      <td>1.0</td>\n",
       "      <td>2.0</td>\n",
       "      <td>1.0</td>\n",
       "      <td>3.0</td>\n",
       "      <td>1.0</td>\n",
       "      <td>2.0</td>\n",
       "      <td>2.0</td>\n",
       "    </tr>\n",
       "    <tr>\n",
       "      <th>37</th>\n",
       "      <td>0.0</td>\n",
       "      <td>37.0</td>\n",
       "      <td>1</td>\n",
       "      <td>1.0</td>\n",
       "      <td>1.0</td>\n",
       "      <td>1.0</td>\n",
       "      <td>2.0</td>\n",
       "      <td>1.0</td>\n",
       "      <td>2.0</td>\n",
       "      <td>1.0</td>\n",
       "      <td>3.0</td>\n",
       "      <td>1.0</td>\n",
       "    </tr>\n",
       "    <tr>\n",
       "      <th>72</th>\n",
       "      <td>0.0</td>\n",
       "      <td>38.0</td>\n",
       "      <td>1</td>\n",
       "      <td>1.0</td>\n",
       "      <td>1.0</td>\n",
       "      <td>2.0</td>\n",
       "      <td>2.0</td>\n",
       "      <td>2.0</td>\n",
       "      <td>3.0</td>\n",
       "      <td>2.0</td>\n",
       "      <td>3.0</td>\n",
       "      <td>2.0</td>\n",
       "    </tr>\n",
       "    <tr>\n",
       "      <th>99</th>\n",
       "      <td>0.0</td>\n",
       "      <td>40.0</td>\n",
       "      <td>1</td>\n",
       "      <td>1.0</td>\n",
       "      <td>1.0</td>\n",
       "      <td>0.0</td>\n",
       "      <td>1.0</td>\n",
       "      <td>1.0</td>\n",
       "      <td>1.0</td>\n",
       "      <td>2.0</td>\n",
       "      <td>3.0</td>\n",
       "      <td>2.0</td>\n",
       "    </tr>\n",
       "    <tr>\n",
       "      <th>165</th>\n",
       "      <td>0.0</td>\n",
       "      <td>37.0</td>\n",
       "      <td>2</td>\n",
       "      <td>1.0</td>\n",
       "      <td>1.0</td>\n",
       "      <td>2.0</td>\n",
       "      <td>2.0</td>\n",
       "      <td>2.0</td>\n",
       "      <td>3.0</td>\n",
       "      <td>1.0</td>\n",
       "      <td>3.0</td>\n",
       "      <td>2.0</td>\n",
       "    </tr>\n",
       "    <tr>\n",
       "      <th>...</th>\n",
       "      <td>...</td>\n",
       "      <td>...</td>\n",
       "      <td>...</td>\n",
       "      <td>...</td>\n",
       "      <td>...</td>\n",
       "      <td>...</td>\n",
       "      <td>...</td>\n",
       "      <td>...</td>\n",
       "      <td>...</td>\n",
       "      <td>...</td>\n",
       "      <td>...</td>\n",
       "      <td>...</td>\n",
       "    </tr>\n",
       "    <tr>\n",
       "      <th>14223</th>\n",
       "      <td>0.0</td>\n",
       "      <td>28.0</td>\n",
       "      <td>2</td>\n",
       "      <td>1.0</td>\n",
       "      <td>1.0</td>\n",
       "      <td>2.0</td>\n",
       "      <td>2.0</td>\n",
       "      <td>2.0</td>\n",
       "      <td>2.0</td>\n",
       "      <td>1.0</td>\n",
       "      <td>2.0</td>\n",
       "      <td>2.0</td>\n",
       "    </tr>\n",
       "    <tr>\n",
       "      <th>14232</th>\n",
       "      <td>0.0</td>\n",
       "      <td>53.0</td>\n",
       "      <td>2</td>\n",
       "      <td>1.0</td>\n",
       "      <td>1.0</td>\n",
       "      <td>2.0</td>\n",
       "      <td>2.0</td>\n",
       "      <td>1.0</td>\n",
       "      <td>3.0</td>\n",
       "      <td>2.0</td>\n",
       "      <td>3.0</td>\n",
       "      <td>2.0</td>\n",
       "    </tr>\n",
       "    <tr>\n",
       "      <th>14703</th>\n",
       "      <td>0.0</td>\n",
       "      <td>39.0</td>\n",
       "      <td>1</td>\n",
       "      <td>1.0</td>\n",
       "      <td>1.0</td>\n",
       "      <td>2.0</td>\n",
       "      <td>1.0</td>\n",
       "      <td>2.0</td>\n",
       "      <td>3.0</td>\n",
       "      <td>1.0</td>\n",
       "      <td>3.0</td>\n",
       "      <td>1.0</td>\n",
       "    </tr>\n",
       "    <tr>\n",
       "      <th>15342</th>\n",
       "      <td>0.0</td>\n",
       "      <td>42.0</td>\n",
       "      <td>1</td>\n",
       "      <td>1.0</td>\n",
       "      <td>2.0</td>\n",
       "      <td>1.0</td>\n",
       "      <td>2.0</td>\n",
       "      <td>1.0</td>\n",
       "      <td>2.0</td>\n",
       "      <td>2.0</td>\n",
       "      <td>3.0</td>\n",
       "      <td>2.0</td>\n",
       "    </tr>\n",
       "    <tr>\n",
       "      <th>15415</th>\n",
       "      <td>0.0</td>\n",
       "      <td>24.0</td>\n",
       "      <td>1</td>\n",
       "      <td>1.0</td>\n",
       "      <td>2.0</td>\n",
       "      <td>2.0</td>\n",
       "      <td>2.0</td>\n",
       "      <td>2.0</td>\n",
       "      <td>3.0</td>\n",
       "      <td>2.0</td>\n",
       "      <td>2.0</td>\n",
       "      <td>2.0</td>\n",
       "    </tr>\n",
       "  </tbody>\n",
       "</table>\n",
       "<p>263 rows × 12 columns</p>\n",
       "</div>"
      ],
      "text/plain": [
       "       GenderSelect   Age  EmploymentStatus  CodeWriter  \\\n",
       "9               0.0  33.0                 1         1.0   \n",
       "37              0.0  37.0                 1         1.0   \n",
       "72              0.0  38.0                 1         1.0   \n",
       "99              0.0  40.0                 1         1.0   \n",
       "165             0.0  37.0                 2         1.0   \n",
       "...             ...   ...               ...         ...   \n",
       "14223           0.0  28.0                 2         1.0   \n",
       "14232           0.0  53.0                 2         1.0   \n",
       "14703           0.0  39.0                 1         1.0   \n",
       "15342           0.0  42.0                 1         1.0   \n",
       "15415           0.0  24.0                 1         1.0   \n",
       "\n",
       "       LearningPlatformUsefulnessYouTube  LearningPlatformUsefulnessKaggle  \\\n",
       "9                                    1.0                               1.0   \n",
       "37                                   1.0                               1.0   \n",
       "72                                   1.0                               2.0   \n",
       "99                                   1.0                               0.0   \n",
       "165                                  1.0                               2.0   \n",
       "...                                  ...                               ...   \n",
       "14223                                1.0                               2.0   \n",
       "14232                                1.0                               2.0   \n",
       "14703                                1.0                               2.0   \n",
       "15342                                2.0                               1.0   \n",
       "15415                                2.0                               2.0   \n",
       "\n",
       "       LearningPlatformUsefulnessProjects  LearningPlatformUsefulnessBlogs  \\\n",
       "9                                     2.0                              1.0   \n",
       "37                                    2.0                              1.0   \n",
       "72                                    2.0                              2.0   \n",
       "99                                    1.0                              1.0   \n",
       "165                                   2.0                              2.0   \n",
       "...                                   ...                              ...   \n",
       "14223                                 2.0                              2.0   \n",
       "14232                                 2.0                              1.0   \n",
       "14703                                 1.0                              2.0   \n",
       "15342                                 2.0                              1.0   \n",
       "15415                                 2.0                              2.0   \n",
       "\n",
       "       WorkToolsFrequencyPython  LearningPlatformUsefulnessSO  \\\n",
       "9                           3.0                           1.0   \n",
       "37                          2.0                           1.0   \n",
       "72                          3.0                           2.0   \n",
       "99                          1.0                           2.0   \n",
       "165                         3.0                           1.0   \n",
       "...                         ...                           ...   \n",
       "14223                       2.0                           1.0   \n",
       "14232                       3.0                           2.0   \n",
       "14703                       3.0                           1.0   \n",
       "15342                       2.0                           2.0   \n",
       "15415                       3.0                           2.0   \n",
       "\n",
       "       WorkMethodsFrequencyDataVisualization  \\\n",
       "9                                        2.0   \n",
       "37                                       3.0   \n",
       "72                                       3.0   \n",
       "99                                       3.0   \n",
       "165                                      3.0   \n",
       "...                                      ...   \n",
       "14223                                    2.0   \n",
       "14232                                    3.0   \n",
       "14703                                    3.0   \n",
       "15342                                    3.0   \n",
       "15415                                    2.0   \n",
       "\n",
       "       LearningPlatformUsefulnessCourses  \n",
       "9                                    2.0  \n",
       "37                                   1.0  \n",
       "72                                   2.0  \n",
       "99                                   2.0  \n",
       "165                                  2.0  \n",
       "...                                  ...  \n",
       "14223                                2.0  \n",
       "14232                                2.0  \n",
       "14703                                1.0  \n",
       "15342                                2.0  \n",
       "15415                                2.0  \n",
       "\n",
       "[263 rows x 12 columns]"
      ]
     },
     "execution_count": 16,
     "metadata": {},
     "output_type": "execute_result"
    }
   ],
   "source": [
    "num_data2"
   ]
  },
  {
   "cell_type": "code",
   "execution_count": 17,
   "metadata": {},
   "outputs": [
    {
     "data": {
      "text/plain": [
       "<matplotlib.axes._subplots.AxesSubplot at 0x7f741a020cd0>"
      ]
     },
     "execution_count": 17,
     "metadata": {},
     "output_type": "execute_result"
    },
    {
     "data": {
      "image/png": "[encoded data removed]",
      "text/plain": [
       "<Figure size 432x288 with 1 Axes>"
      ]
     },
     "metadata": {
      "needs_background": "light"
     },
     "output_type": "display_data"
    }
   ],
   "source": [
    "num_data2[\"GenderSelect\"].hist()"
   ]
  },
  {
   "cell_type": "code",
   "execution_count": 200,
   "metadata": {},
   "outputs": [],
   "source": [
    "tsne1 = TSNE(random_state=0)"
   ]
  },
  {
   "cell_type": "code",
   "execution_count": 201,
   "metadata": {},
   "outputs": [
    {
     "data": {
      "text/plain": [
       "TSNE(random_state=0)"
      ]
     },
     "execution_count": 201,
     "metadata": {},
     "output_type": "execute_result"
    }
   ],
   "source": [
    "tsne1.fit(num_data2)"
   ]
  },
  {
   "cell_type": "code",
   "execution_count": 202,
   "metadata": {},
   "outputs": [
    {
     "data": {
      "image/png": "[encoded data removed]",
      "text/plain": [
       "<Figure size 432x288 with 1 Axes>"
      ]
     },
     "metadata": {
      "needs_background": "light"
     },
     "output_type": "display_data"
    }
   ],
   "source": [
    "plt.scatter(tsne1.embedding_[num_data2[\"GenderSelect\"].map({0: True, 1: False}).values, 0],\n",
    "            tsne1.embedding_[num_data2[\"GenderSelect\"].map({0: True, 1: False}).values, 1], color=\"orange\");\n",
    "plt.scatter(tsne1.embedding_[~num_data2[\"GenderSelect\"].map({0: True, 1: False}).values, 0],\n",
    "            tsne1.embedding_[~num_data2[\"GenderSelect\"].map({0: True, 1: False}).values, 1], color=\"blue\");"
   ]
  },
  {
   "cell_type": "code",
   "execution_count": 204,
   "metadata": {},
   "outputs": [
    {
     "data": {
      "text/plain": [
       "(235,)"
      ]
     },
     "execution_count": 204,
     "metadata": {},
     "output_type": "execute_result"
    }
   ],
   "source": [
    "tsne1.embedding_[num_data2[\"GenderSelect\"].map({0: True, 1: False}).values, 0].shape"
   ]
  },
  {
   "cell_type": "code",
   "execution_count": 18,
   "metadata": {},
   "outputs": [
    {
     "name": "stdout",
     "output_type": "stream",
     "text": [
      "<class 'pandas.core.frame.DataFrame'>\n",
      "Int64Index: 263 entries, 9 to 15415\n",
      "Data columns (total 12 columns):\n",
      " #   Column                                 Non-Null Count  Dtype  \n",
      "---  ------                                 --------------  -----  \n",
      " 0   GenderSelect                           263 non-null    float64\n",
      " 1   Age                                    263 non-null    float64\n",
      " 2   EmploymentStatus                       263 non-null    int64  \n",
      " 3   CodeWriter                             263 non-null    float64\n",
      " 4   LearningPlatformUsefulnessYouTube      263 non-null    float64\n",
      " 5   LearningPlatformUsefulnessKaggle       263 non-null    float64\n",
      " 6   LearningPlatformUsefulnessProjects     263 non-null    float64\n",
      " 7   LearningPlatformUsefulnessBlogs        263 non-null    float64\n",
      " 8   WorkToolsFrequencyPython               263 non-null    float64\n",
      " 9   LearningPlatformUsefulnessSO           263 non-null    float64\n",
      " 10  WorkMethodsFrequencyDataVisualization  263 non-null    float64\n",
      " 11  LearningPlatformUsefulnessCourses      263 non-null    float64\n",
      "dtypes: float64(11), int64(1)\n",
      "memory usage: 26.7 KB\n"
     ]
    }
   ],
   "source": [
    "num_data2.info()"
   ]
  },
  {
   "cell_type": "code",
   "execution_count": 22,
   "metadata": {},
   "outputs": [],
   "source": [
    "y = num_data2[\"EmploymentStatus\"].astype(\"int\")\n",
    "X = num_data2.drop(\"EmploymentStatus\", axis=1)"
   ]
  },
  {
   "cell_type": "code",
   "execution_count": 23,
   "metadata": {},
   "outputs": [
    {
     "data": {
      "text/plain": [
       "((263,), (263, 11))"
      ]
     },
     "execution_count": 23,
     "metadata": {},
     "output_type": "execute_result"
    }
   ],
   "source": [
    "y.shape, X.shape"
   ]
  },
  {
   "cell_type": "code",
   "execution_count": 28,
   "metadata": {},
   "outputs": [],
   "source": [
    "X_train, X_test, y_train, y_test = train_test_split(X, y, test_size=0.3, random_state=17)"
   ]
  },
  {
   "cell_type": "code",
   "execution_count": 30,
   "metadata": {},
   "outputs": [],
   "source": [
    "first_tree = DecisionTreeClassifier(random_state=17)"
   ]
  },
  {
   "cell_type": "code",
   "execution_count": 33,
   "metadata": {},
   "outputs": [
    {
     "data": {
      "text/plain": [
       "array([0.62903226, 0.72131148, 0.7704918 ])"
      ]
     },
     "execution_count": 33,
     "metadata": {},
     "output_type": "execute_result"
    }
   ],
   "source": [
    "cross_val_score(first_tree, X_train, y_train, cv=3)"
   ]
  },
  {
   "cell_type": "code",
   "execution_count": 34,
   "metadata": {},
   "outputs": [
    {
     "data": {
      "text/html": [
       "<div>\n",
       "<style scoped>\n",
       "    .dataframe tbody tr th:only-of-type {\n",
       "        vertical-align: middle;\n",
       "    }\n",
       "\n",
       "    .dataframe tbody tr th {\n",
       "        vertical-align: top;\n",
       "    }\n",
       "\n",
       "    .dataframe thead th {\n",
       "        text-align: right;\n",
       "    }\n",
       "</style>\n",
       "<table border=\"1\" class=\"dataframe\">\n",
       "  <thead>\n",
       "    <tr style=\"text-align: right;\">\n",
       "      <th></th>\n",
       "      <th>Age</th>\n",
       "      <th>Gender_A different identity</th>\n",
       "      <th>Gender_Female</th>\n",
       "      <th>Gender_Male</th>\n",
       "      <th>Gender_Non-binary, genderqueer, or gender non-conforming</th>\n",
       "      <th>Employment_Employed full-time</th>\n",
       "      <th>Employment_Employed part-time</th>\n",
       "      <th>Employment_I prefer not to say</th>\n",
       "      <th>Employment_Independent contractor, freelancer, or self-employed</th>\n",
       "      <th>Employment_Not employed, and not looking for work</th>\n",
       "      <th>...</th>\n",
       "      <th>WM_RandomForests_Rarely</th>\n",
       "      <th>WM_RandomForests_Sometimes</th>\n",
       "      <th>WM_RNNs_Most of the time</th>\n",
       "      <th>WM_RNNs_Often</th>\n",
       "      <th>WM_RNNs_Rarely</th>\n",
       "      <th>WM_RNNs_Sometimes</th>\n",
       "      <th>WM_HMMs_Most of the time</th>\n",
       "      <th>WM_HMMs_Often</th>\n",
       "      <th>WM_HMMs_Rarely</th>\n",
       "      <th>WM_HMMs_Sometimes</th>\n",
       "    </tr>\n",
       "  </thead>\n",
       "  <tbody>\n",
       "    <tr>\n",
       "      <th>0</th>\n",
       "      <td>30.0</td>\n",
       "      <td>0</td>\n",
       "      <td>0</td>\n",
       "      <td>0</td>\n",
       "      <td>1</td>\n",
       "      <td>1</td>\n",
       "      <td>0</td>\n",
       "      <td>0</td>\n",
       "      <td>0</td>\n",
       "      <td>0</td>\n",
       "      <td>...</td>\n",
       "      <td>0</td>\n",
       "      <td>0</td>\n",
       "      <td>0</td>\n",
       "      <td>0</td>\n",
       "      <td>0</td>\n",
       "      <td>0</td>\n",
       "      <td>0</td>\n",
       "      <td>0</td>\n",
       "      <td>0</td>\n",
       "      <td>0</td>\n",
       "    </tr>\n",
       "    <tr>\n",
       "      <th>1</th>\n",
       "      <td>30.0</td>\n",
       "      <td>0</td>\n",
       "      <td>1</td>\n",
       "      <td>0</td>\n",
       "      <td>0</td>\n",
       "      <td>0</td>\n",
       "      <td>0</td>\n",
       "      <td>0</td>\n",
       "      <td>0</td>\n",
       "      <td>0</td>\n",
       "      <td>...</td>\n",
       "      <td>0</td>\n",
       "      <td>0</td>\n",
       "      <td>0</td>\n",
       "      <td>0</td>\n",
       "      <td>0</td>\n",
       "      <td>0</td>\n",
       "      <td>0</td>\n",
       "      <td>0</td>\n",
       "      <td>0</td>\n",
       "      <td>0</td>\n",
       "    </tr>\n",
       "    <tr>\n",
       "      <th>2</th>\n",
       "      <td>28.0</td>\n",
       "      <td>0</td>\n",
       "      <td>0</td>\n",
       "      <td>1</td>\n",
       "      <td>0</td>\n",
       "      <td>0</td>\n",
       "      <td>0</td>\n",
       "      <td>0</td>\n",
       "      <td>0</td>\n",
       "      <td>0</td>\n",
       "      <td>...</td>\n",
       "      <td>0</td>\n",
       "      <td>0</td>\n",
       "      <td>0</td>\n",
       "      <td>0</td>\n",
       "      <td>0</td>\n",
       "      <td>0</td>\n",
       "      <td>0</td>\n",
       "      <td>0</td>\n",
       "      <td>0</td>\n",
       "      <td>0</td>\n",
       "    </tr>\n",
       "    <tr>\n",
       "      <th>3</th>\n",
       "      <td>56.0</td>\n",
       "      <td>0</td>\n",
       "      <td>0</td>\n",
       "      <td>1</td>\n",
       "      <td>0</td>\n",
       "      <td>0</td>\n",
       "      <td>0</td>\n",
       "      <td>0</td>\n",
       "      <td>1</td>\n",
       "      <td>0</td>\n",
       "      <td>...</td>\n",
       "      <td>0</td>\n",
       "      <td>1</td>\n",
       "      <td>0</td>\n",
       "      <td>0</td>\n",
       "      <td>0</td>\n",
       "      <td>0</td>\n",
       "      <td>0</td>\n",
       "      <td>0</td>\n",
       "      <td>0</td>\n",
       "      <td>0</td>\n",
       "    </tr>\n",
       "    <tr>\n",
       "      <th>4</th>\n",
       "      <td>38.0</td>\n",
       "      <td>0</td>\n",
       "      <td>0</td>\n",
       "      <td>1</td>\n",
       "      <td>0</td>\n",
       "      <td>1</td>\n",
       "      <td>0</td>\n",
       "      <td>0</td>\n",
       "      <td>0</td>\n",
       "      <td>0</td>\n",
       "      <td>...</td>\n",
       "      <td>0</td>\n",
       "      <td>0</td>\n",
       "      <td>0</td>\n",
       "      <td>0</td>\n",
       "      <td>0</td>\n",
       "      <td>1</td>\n",
       "      <td>0</td>\n",
       "      <td>0</td>\n",
       "      <td>0</td>\n",
       "      <td>0</td>\n",
       "    </tr>\n",
       "    <tr>\n",
       "      <th>...</th>\n",
       "      <td>...</td>\n",
       "      <td>...</td>\n",
       "      <td>...</td>\n",
       "      <td>...</td>\n",
       "      <td>...</td>\n",
       "      <td>...</td>\n",
       "      <td>...</td>\n",
       "      <td>...</td>\n",
       "      <td>...</td>\n",
       "      <td>...</td>\n",
       "      <td>...</td>\n",
       "      <td>...</td>\n",
       "      <td>...</td>\n",
       "      <td>...</td>\n",
       "      <td>...</td>\n",
       "      <td>...</td>\n",
       "      <td>...</td>\n",
       "      <td>...</td>\n",
       "      <td>...</td>\n",
       "      <td>...</td>\n",
       "      <td>...</td>\n",
       "    </tr>\n",
       "    <tr>\n",
       "      <th>16711</th>\n",
       "      <td>24.0</td>\n",
       "      <td>0</td>\n",
       "      <td>1</td>\n",
       "      <td>0</td>\n",
       "      <td>0</td>\n",
       "      <td>0</td>\n",
       "      <td>0</td>\n",
       "      <td>0</td>\n",
       "      <td>0</td>\n",
       "      <td>0</td>\n",
       "      <td>...</td>\n",
       "      <td>0</td>\n",
       "      <td>0</td>\n",
       "      <td>0</td>\n",
       "      <td>0</td>\n",
       "      <td>0</td>\n",
       "      <td>0</td>\n",
       "      <td>0</td>\n",
       "      <td>0</td>\n",
       "      <td>0</td>\n",
       "      <td>0</td>\n",
       "    </tr>\n",
       "    <tr>\n",
       "      <th>16712</th>\n",
       "      <td>25.0</td>\n",
       "      <td>0</td>\n",
       "      <td>0</td>\n",
       "      <td>1</td>\n",
       "      <td>0</td>\n",
       "      <td>1</td>\n",
       "      <td>0</td>\n",
       "      <td>0</td>\n",
       "      <td>0</td>\n",
       "      <td>0</td>\n",
       "      <td>...</td>\n",
       "      <td>0</td>\n",
       "      <td>0</td>\n",
       "      <td>0</td>\n",
       "      <td>0</td>\n",
       "      <td>0</td>\n",
       "      <td>0</td>\n",
       "      <td>0</td>\n",
       "      <td>0</td>\n",
       "      <td>0</td>\n",
       "      <td>0</td>\n",
       "    </tr>\n",
       "    <tr>\n",
       "      <th>16713</th>\n",
       "      <td>25.0</td>\n",
       "      <td>0</td>\n",
       "      <td>1</td>\n",
       "      <td>0</td>\n",
       "      <td>0</td>\n",
       "      <td>0</td>\n",
       "      <td>1</td>\n",
       "      <td>0</td>\n",
       "      <td>0</td>\n",
       "      <td>0</td>\n",
       "      <td>...</td>\n",
       "      <td>0</td>\n",
       "      <td>0</td>\n",
       "      <td>0</td>\n",
       "      <td>0</td>\n",
       "      <td>0</td>\n",
       "      <td>0</td>\n",
       "      <td>0</td>\n",
       "      <td>0</td>\n",
       "      <td>0</td>\n",
       "      <td>0</td>\n",
       "    </tr>\n",
       "    <tr>\n",
       "      <th>16714</th>\n",
       "      <td>16.0</td>\n",
       "      <td>0</td>\n",
       "      <td>1</td>\n",
       "      <td>0</td>\n",
       "      <td>0</td>\n",
       "      <td>0</td>\n",
       "      <td>0</td>\n",
       "      <td>1</td>\n",
       "      <td>0</td>\n",
       "      <td>0</td>\n",
       "      <td>...</td>\n",
       "      <td>0</td>\n",
       "      <td>0</td>\n",
       "      <td>0</td>\n",
       "      <td>0</td>\n",
       "      <td>0</td>\n",
       "      <td>0</td>\n",
       "      <td>0</td>\n",
       "      <td>0</td>\n",
       "      <td>0</td>\n",
       "      <td>0</td>\n",
       "    </tr>\n",
       "    <tr>\n",
       "      <th>16715</th>\n",
       "      <td>27.0</td>\n",
       "      <td>0</td>\n",
       "      <td>0</td>\n",
       "      <td>1</td>\n",
       "      <td>0</td>\n",
       "      <td>1</td>\n",
       "      <td>0</td>\n",
       "      <td>0</td>\n",
       "      <td>0</td>\n",
       "      <td>0</td>\n",
       "      <td>...</td>\n",
       "      <td>0</td>\n",
       "      <td>0</td>\n",
       "      <td>0</td>\n",
       "      <td>0</td>\n",
       "      <td>0</td>\n",
       "      <td>0</td>\n",
       "      <td>0</td>\n",
       "      <td>0</td>\n",
       "      <td>0</td>\n",
       "      <td>0</td>\n",
       "    </tr>\n",
       "  </tbody>\n",
       "</table>\n",
       "<p>16716 rows × 375 columns</p>\n",
       "</div>"
      ],
      "text/plain": [
       "        Age  Gender_A different identity  Gender_Female  Gender_Male  \\\n",
       "0      30.0                            0              0            0   \n",
       "1      30.0                            0              1            0   \n",
       "2      28.0                            0              0            1   \n",
       "3      56.0                            0              0            1   \n",
       "4      38.0                            0              0            1   \n",
       "...     ...                          ...            ...          ...   \n",
       "16711  24.0                            0              1            0   \n",
       "16712  25.0                            0              0            1   \n",
       "16713  25.0                            0              1            0   \n",
       "16714  16.0                            0              1            0   \n",
       "16715  27.0                            0              0            1   \n",
       "\n",
       "       Gender_Non-binary, genderqueer, or gender non-conforming  \\\n",
       "0                                                      1          \n",
       "1                                                      0          \n",
       "2                                                      0          \n",
       "3                                                      0          \n",
       "4                                                      0          \n",
       "...                                                  ...          \n",
       "16711                                                  0          \n",
       "16712                                                  0          \n",
       "16713                                                  0          \n",
       "16714                                                  0          \n",
       "16715                                                  0          \n",
       "\n",
       "       Employment_Employed full-time  Employment_Employed part-time  \\\n",
       "0                                  1                              0   \n",
       "1                                  0                              0   \n",
       "2                                  0                              0   \n",
       "3                                  0                              0   \n",
       "4                                  1                              0   \n",
       "...                              ...                            ...   \n",
       "16711                              0                              0   \n",
       "16712                              1                              0   \n",
       "16713                              0                              1   \n",
       "16714                              0                              0   \n",
       "16715                              1                              0   \n",
       "\n",
       "       Employment_I prefer not to say  \\\n",
       "0                                   0   \n",
       "1                                   0   \n",
       "2                                   0   \n",
       "3                                   0   \n",
       "4                                   0   \n",
       "...                               ...   \n",
       "16711                               0   \n",
       "16712                               0   \n",
       "16713                               0   \n",
       "16714                               1   \n",
       "16715                               0   \n",
       "\n",
       "       Employment_Independent contractor, freelancer, or self-employed  \\\n",
       "0                                                      0                 \n",
       "1                                                      0                 \n",
       "2                                                      0                 \n",
       "3                                                      1                 \n",
       "4                                                      0                 \n",
       "...                                                  ...                 \n",
       "16711                                                  0                 \n",
       "16712                                                  0                 \n",
       "16713                                                  0                 \n",
       "16714                                                  0                 \n",
       "16715                                                  0                 \n",
       "\n",
       "       Employment_Not employed, and not looking for work  ...  \\\n",
       "0                                                      0  ...   \n",
       "1                                                      0  ...   \n",
       "2                                                      0  ...   \n",
       "3                                                      0  ...   \n",
       "4                                                      0  ...   \n",
       "...                                                  ...  ...   \n",
       "16711                                                  0  ...   \n",
       "16712                                                  0  ...   \n",
       "16713                                                  0  ...   \n",
       "16714                                                  0  ...   \n",
       "16715                                                  0  ...   \n",
       "\n",
       "       WM_RandomForests_Rarely  WM_RandomForests_Sometimes  \\\n",
       "0                            0                           0   \n",
       "1                            0                           0   \n",
       "2                            0                           0   \n",
       "3                            0                           1   \n",
       "4                            0                           0   \n",
       "...                        ...                         ...   \n",
       "16711                        0                           0   \n",
       "16712                        0                           0   \n",
       "16713                        0                           0   \n",
       "16714                        0                           0   \n",
       "16715                        0                           0   \n",
       "\n",
       "       WM_RNNs_Most of the time  WM_RNNs_Often  WM_RNNs_Rarely  \\\n",
       "0                             0              0               0   \n",
       "1                             0              0               0   \n",
       "2                             0              0               0   \n",
       "3                             0              0               0   \n",
       "4                             0              0               0   \n",
       "...                         ...            ...             ...   \n",
       "16711                         0              0               0   \n",
       "16712                         0              0               0   \n",
       "16713                         0              0               0   \n",
       "16714                         0              0               0   \n",
       "16715                         0              0               0   \n",
       "\n",
       "       WM_RNNs_Sometimes  WM_HMMs_Most of the time  WM_HMMs_Often  \\\n",
       "0                      0                         0              0   \n",
       "1                      0                         0              0   \n",
       "2                      0                         0              0   \n",
       "3                      0                         0              0   \n",
       "4                      1                         0              0   \n",
       "...                  ...                       ...            ...   \n",
       "16711                  0                         0              0   \n",
       "16712                  0                         0              0   \n",
       "16713                  0                         0              0   \n",
       "16714                  0                         0              0   \n",
       "16715                  0                         0              0   \n",
       "\n",
       "       WM_HMMs_Rarely  WM_HMMs_Sometimes  \n",
       "0                   0                  0  \n",
       "1                   0                  0  \n",
       "2                   0                  0  \n",
       "3                   0                  0  \n",
       "4                   0                  0  \n",
       "...               ...                ...  \n",
       "16711               0                  0  \n",
       "16712               0                  0  \n",
       "16713               0                  0  \n",
       "16714               0                  0  \n",
       "16715               0                  0  \n",
       "\n",
       "[16716 rows x 375 columns]"
      ]
     },
     "execution_count": 34,
     "metadata": {},
     "output_type": "execute_result"
    }
   ],
   "source": [
    "num_data1"
   ]
  },
  {
   "cell_type": "code",
   "execution_count": 64,
   "metadata": {},
   "outputs": [],
   "source": [
    "y1 = num_data1[\"Employment_Employed full-time\"].astype(\"int\")\n",
    "X1 = num_data1.drop([\"Employment_Employed full-time\", \"Employment_Employed part-time\",\n",
    "                    \"Employment_I prefer not to say\", \"Employment_Independent contractor, freelancer, or self-employed\",\n",
    "                    \"Employment_Not employed, and not looking for work\",\n",
    "                    \"Employment_Not employed, but looking for work\",\n",
    "                    \"Employment_Retired\"], axis=1)"
   ]
  },
  {
   "cell_type": "code",
   "execution_count": 65,
   "metadata": {},
   "outputs": [
    {
     "data": {
      "text/plain": [
       "((16716,), (16716, 368))"
      ]
     },
     "execution_count": 65,
     "metadata": {},
     "output_type": "execute_result"
    }
   ],
   "source": [
    "y1.shape, X1.shape"
   ]
  },
  {
   "cell_type": "code",
   "execution_count": 66,
   "metadata": {},
   "outputs": [],
   "source": [
    "X1_train, X1_test, y1_train, y1_test = train_test_split(X1, y1, test_size=0.3, random_state=17)"
   ]
  },
  {
   "cell_type": "code",
   "execution_count": 67,
   "metadata": {},
   "outputs": [],
   "source": [
    "second_tree = DecisionTreeClassifier(random_state=17)"
   ]
  },
  {
   "cell_type": "code",
   "execution_count": 68,
   "metadata": {},
   "outputs": [
    {
     "data": {
      "text/plain": [
       "array([0.7992311 , 0.7982906 , 0.79444444, 0.78803419, 0.78290598])"
      ]
     },
     "execution_count": 68,
     "metadata": {},
     "output_type": "execute_result"
    }
   ],
   "source": [
    "cross_val_score(second_tree, X1_train, y1_train, cv=5)"
   ]
  },
  {
   "cell_type": "code",
   "execution_count": 46,
   "metadata": {},
   "outputs": [],
   "source": [
    "first_knn = KNeighborsClassifier()"
   ]
  },
  {
   "cell_type": "code",
   "execution_count": 47,
   "metadata": {},
   "outputs": [
    {
     "data": {
      "text/plain": [
       "0.7935435435435435"
      ]
     },
     "execution_count": 47,
     "metadata": {},
     "output_type": "execute_result"
    }
   ],
   "source": [
    "np.mean(cross_val_score(first_knn, X_train, y_train, cv=5))"
   ]
  },
  {
   "cell_type": "code",
   "execution_count": 41,
   "metadata": {},
   "outputs": [],
   "source": [
    "second_knn = KNeighborsClassifier()"
   ]
  },
  {
   "cell_type": "code",
   "execution_count": 42,
   "metadata": {
    "scrolled": true
   },
   "outputs": [
    {
     "data": {
      "text/plain": [
       "0.8108705097171564"
      ]
     },
     "execution_count": 42,
     "metadata": {},
     "output_type": "execute_result"
    }
   ],
   "source": [
    "np.mean(cross_val_score(second_knn, X1_train, y1_train, cv=5))"
   ]
  },
  {
   "cell_type": "markdown",
   "metadata": {},
   "source": [
    "## Настроим max_depth для дерева"
   ]
  },
  {
   "cell_type": "code",
   "execution_count": 69,
   "metadata": {},
   "outputs": [],
   "source": [
    "tree_params = { 'max_depth': np.arange(1, 11), 'min_samples_leaf': [1, 2, 3, 4], 'max_features': [0.5, 0.7, 1]}"
   ]
  },
  {
   "cell_type": "code",
   "execution_count": 70,
   "metadata": {},
   "outputs": [],
   "source": [
    "tree_grid1 = GridSearchCV(second_tree, tree_params, cv=5)"
   ]
  },
  {
   "cell_type": "code",
   "execution_count": 71,
   "metadata": {
    "scrolled": true
   },
   "outputs": [
    {
     "data": {
      "text/plain": [
       "GridSearchCV(cv=5, estimator=DecisionTreeClassifier(random_state=17),\n",
       "             param_grid={'max_depth': array([ 1,  2,  3,  4,  5,  6,  7,  8,  9, 10]),\n",
       "                         'max_features': [0.5, 0.7, 1],\n",
       "                         'min_samples_leaf': [1, 2, 3, 4]})"
      ]
     },
     "execution_count": 71,
     "metadata": {},
     "output_type": "execute_result"
    }
   ],
   "source": [
    "tree_grid1.fit(X1_train, y1_train)"
   ]
  },
  {
   "cell_type": "code",
   "execution_count": 72,
   "metadata": {},
   "outputs": [
    {
     "data": {
      "text/plain": [
       "(0.8634301215420395,\n",
       " {'max_depth': 5, 'max_features': 0.7, 'min_samples_leaf': 3})"
      ]
     },
     "execution_count": 72,
     "metadata": {},
     "output_type": "execute_result"
    }
   ],
   "source": [
    "tree_grid1.best_score_, tree_grid1.best_params_"
   ]
  },
  {
   "cell_type": "markdown",
   "metadata": {},
   "source": [
    "## Настроим max_depth для метода ближайших соседей"
   ]
  },
  {
   "cell_type": "code",
   "execution_count": 50,
   "metadata": {},
   "outputs": [],
   "source": [
    "knn_params = {'n_neighbors': [1, 2, 3, 4] + list(range(50, 100, 10))}"
   ]
  },
  {
   "cell_type": "code",
   "execution_count": 51,
   "metadata": {},
   "outputs": [],
   "source": [
    "knn_grid1 = GridSearchCV(second_knn, knn_params, cv=5)"
   ]
  },
  {
   "cell_type": "code",
   "execution_count": 52,
   "metadata": {
    "scrolled": true
   },
   "outputs": [
    {
     "data": {
      "text/plain": [
       "GridSearchCV(cv=5, estimator=KNeighborsClassifier(),\n",
       "             param_grid={'n_neighbors': [1, 2, 3, 4, 50, 60, 70, 80, 90]})"
      ]
     },
     "execution_count": 52,
     "metadata": {},
     "output_type": "execute_result"
    }
   ],
   "source": [
    "knn_grid1.fit(X1_train, y1_train)"
   ]
  },
  {
   "cell_type": "code",
   "execution_count": 53,
   "metadata": {},
   "outputs": [
    {
     "data": {
      "text/plain": [
       "(0.8173659076222082, {'n_neighbors': 50})"
      ]
     },
     "execution_count": 53,
     "metadata": {},
     "output_type": "execute_result"
    }
   ],
   "source": [
    "knn_grid1.best_score_, knn_grid1.best_params_"
   ]
  },
  {
   "cell_type": "code",
   "execution_count": 82,
   "metadata": {},
   "outputs": [],
   "source": [
    "# возможно лучший параметр находится в промежутке от 4 до 50,\n",
    "# которые мы не включали. Проверим это"
   ]
  },
  {
   "cell_type": "code",
   "execution_count": 55,
   "metadata": {},
   "outputs": [],
   "source": [
    "knn_params = {'n_neighbors': range(5, 50)}"
   ]
  },
  {
   "cell_type": "code",
   "execution_count": 56,
   "metadata": {},
   "outputs": [],
   "source": [
    "knn_grid1 = GridSearchCV(second_knn, knn_params, cv=5)"
   ]
  },
  {
   "cell_type": "code",
   "execution_count": 57,
   "metadata": {},
   "outputs": [
    {
     "data": {
      "text/plain": [
       "GridSearchCV(cv=5, estimator=KNeighborsClassifier(),\n",
       "             param_grid={'n_neighbors': range(5, 50)})"
      ]
     },
     "execution_count": 57,
     "metadata": {},
     "output_type": "execute_result"
    }
   ],
   "source": [
    "knn_grid1.fit(X1_train, y1_train)"
   ]
  },
  {
   "cell_type": "code",
   "execution_count": 100,
   "metadata": {},
   "outputs": [
    {
     "data": {
      "text/plain": [
       "(0.8371765399351606, {'n_neighbors': 47})"
      ]
     },
     "execution_count": 100,
     "metadata": {},
     "output_type": "execute_result"
    }
   ],
   "source": [
    "knn_grid1.best_score_, knn_grid1.best_params_"
   ]
  },
  {
   "cell_type": "code",
   "execution_count": 73,
   "metadata": {},
   "outputs": [],
   "source": [
    "test_valid_pred1 = tree_grid1.predict(X1_test)"
   ]
  },
  {
   "cell_type": "code",
   "execution_count": 74,
   "metadata": {},
   "outputs": [
    {
     "data": {
      "text/plain": [
       "0.8514456630109671"
      ]
     },
     "execution_count": 74,
     "metadata": {},
     "output_type": "execute_result"
    }
   ],
   "source": [
    "accuracy_score(y1_test, test_valid_pred1)"
   ]
  },
  {
   "cell_type": "code",
   "execution_count": 77,
   "metadata": {},
   "outputs": [],
   "source": [
    "export_graphviz(tree_grid1.best_estimator_, out_file='employment_status2.dot',\n",
    "               feature_names=X1.columns, filled=True)"
   ]
  },
  {
   "cell_type": "code",
   "execution_count": 80,
   "metadata": {},
   "outputs": [],
   "source": [
    "!dot -Tpng employment_status2.dot -o employment_status2.png"
   ]
  },
  {
   "cell_type": "markdown",
   "metadata": {},
   "source": [
    "<img src='employment_status2.png'>"
   ]
  },
  {
   "cell_type": "code",
   "execution_count": 120,
   "metadata": {},
   "outputs": [],
   "source": [
    "export_graphviz(tree_grid.best_estimator_, out_file='employment_status.dot',\n",
    "               feature_names=X.columns, filled=True)"
   ]
  },
  {
   "cell_type": "markdown",
   "metadata": {},
   "source": [
    "<img src='employment_status.png'>"
   ]
  },
  {
   "cell_type": "code",
   "execution_count": 18,
   "metadata": {},
   "outputs": [],
   "source": [
    "y1 = num_data1[\"Employment_Employed full-time\"].astype(\"int\")\n",
    "X1 = num_data1.drop([\"Employment_Employed full-time\", \"Employment_Employed part-time\",\n",
    "                    \"Employment_I prefer not to say\", \"Employment_Independent contractor, freelancer, or self-employed\",\n",
    "                    \"Employment_Not employed, and not looking for work\",\n",
    "                    \"Employment_Not employed, but looking for work\",\n",
    "                    \"Employment_Retired\"], axis=1)"
   ]
  },
  {
   "cell_type": "code",
   "execution_count": 20,
   "metadata": {},
   "outputs": [
    {
     "data": {
      "text/plain": [
       "(16716, 251)"
      ]
     },
     "execution_count": 20,
     "metadata": {},
     "output_type": "execute_result"
    }
   ],
   "source": [
    "X1.shape"
   ]
  },
  {
   "cell_type": "code",
   "execution_count": 21,
   "metadata": {},
   "outputs": [],
   "source": [
    "# последовательность с индексами\n",
    "sites_flatten = X1.values.flatten()\n",
    "\n",
    "full_sites_sparse = csr_matrix(([1] * sites_flatten.shape[0],\n",
    "                                sites_flatten,\n",
    "                                range(0, sites_flatten.shape[0] + 251, 251)))[:, 1:]"
   ]
  },
  {
   "cell_type": "code",
   "execution_count": 22,
   "metadata": {},
   "outputs": [
    {
     "data": {
      "text/plain": [
       "(16716, 100)"
      ]
     },
     "execution_count": 22,
     "metadata": {},
     "output_type": "execute_result"
    }
   ],
   "source": [
    "#разряженная матрица\n",
    "full_sites_sparse.shape"
   ]
  },
  {
   "cell_type": "code",
   "execution_count": 24,
   "metadata": {},
   "outputs": [
    {
     "data": {
      "text/plain": [
       "(16716,)"
      ]
     },
     "execution_count": 24,
     "metadata": {},
     "output_type": "execute_result"
    }
   ],
   "source": [
    "y1.shape"
   ]
  },
  {
   "cell_type": "markdown",
   "metadata": {},
   "source": [
    "## Логистическая регрессия"
   ]
  },
  {
   "cell_type": "code",
   "execution_count": 26,
   "metadata": {},
   "outputs": [],
   "source": [
    "X_train, X_test, y_train, y_test = train_test_split(full_sites_sparse, y1, test_size=0.33, random_state=42)"
   ]
  },
  {
   "cell_type": "code",
   "execution_count": 42,
   "metadata": {},
   "outputs": [],
   "source": [
    "logit = LogisticRegression(C=1, n_jobs=-1, random_state=17)"
   ]
  },
  {
   "cell_type": "code",
   "execution_count": 43,
   "metadata": {},
   "outputs": [
    {
     "data": {
      "text/plain": [
       "LogisticRegression(C=1, n_jobs=-1, random_state=17)"
      ]
     },
     "execution_count": 43,
     "metadata": {},
     "output_type": "execute_result"
    }
   ],
   "source": [
    "logit.fit(X_train, y_train)"
   ]
  },
  {
   "cell_type": "code",
   "execution_count": 44,
   "metadata": {},
   "outputs": [],
   "source": [
    "valid_pred = logit.predict_proba(X_test)[:, 1]"
   ]
  },
  {
   "cell_type": "code",
   "execution_count": 45,
   "metadata": {},
   "outputs": [
    {
     "data": {
      "text/plain": [
       "0.7117261363466096"
      ]
     },
     "execution_count": 45,
     "metadata": {},
     "output_type": "execute_result"
    }
   ],
   "source": [
    "roc_auc_score(y_test, valid_pred)"
   ]
  },
  {
   "cell_type": "code",
   "execution_count": 56,
   "metadata": {},
   "outputs": [],
   "source": [
    "new_logit = LogisticRegression(n_jobs=-1, random_state=17)"
   ]
  },
  {
   "cell_type": "code",
   "execution_count": 57,
   "metadata": {},
   "outputs": [],
   "source": [
    "X1_train, X1_test, y1_train, y1_test = train_test_split(X1, y1, test_size=0.3, random_state=17)"
   ]
  },
  {
   "cell_type": "code",
   "execution_count": 58,
   "metadata": {},
   "outputs": [
    {
     "data": {
      "text/plain": [
       "LogisticRegression(n_jobs=-1, random_state=17)"
      ]
     },
     "execution_count": 58,
     "metadata": {},
     "output_type": "execute_result"
    }
   ],
   "source": [
    "new_logit.fit(X1_train, y1_train)"
   ]
  },
  {
   "cell_type": "code",
   "execution_count": 59,
   "metadata": {},
   "outputs": [
    {
     "data": {
      "text/plain": [
       "((5015, 251), (11701, 251), (11701,), (5015,))"
      ]
     },
     "execution_count": 59,
     "metadata": {},
     "output_type": "execute_result"
    }
   ],
   "source": [
    "X1_test.shape, X1_train.shape, y1_train.shape, y1_test.shape"
   ]
  },
  {
   "cell_type": "code",
   "execution_count": 63,
   "metadata": {
    "scrolled": true
   },
   "outputs": [
    {
     "data": {
      "text/plain": [
       "0.8257402315368481"
      ]
     },
     "execution_count": 63,
     "metadata": {},
     "output_type": "execute_result"
    }
   ],
   "source": [
    "valid_pred1 = new_logit.predict_proba(X1_test)[:, 1]\n",
    "roc_auc_score(y1_test, valid_pred1)"
   ]
  },
  {
   "cell_type": "code",
   "execution_count": 78,
   "metadata": {},
   "outputs": [],
   "source": [
    "#создание посылки для кегл\n",
    "pd.Series(valid_pred1, index=range(1, valid_pred1.shape[0] + 1),\n",
    "          name='employment').to_csv('benchmark.csv', header=True, index_label=\"user_id\")"
   ]
  },
  {
   "cell_type": "code",
   "execution_count": 79,
   "metadata": {},
   "outputs": [
    {
     "name": "stdout",
     "output_type": "stream",
     "text": [
      "user_id,employment\r\n",
      "1,0.9143320769773898\r\n",
      "2,0.6908630652998556\r\n",
      "3,0.8522982358634015\r\n",
      "4,0.7966572840707762\r\n",
      "5,0.03417978003184241\r\n",
      "6,0.9022585842457626\r\n",
      "7,0.884184997748235\r\n",
      "8,0.7922044039021899\r\n",
      "9,0.7697199183996392\r\n"
     ]
    }
   ],
   "source": [
    "!head benchmark.csv"
   ]
  }
 ],
 "metadata": {
  "kernelspec": {
   "display_name": "Python 3",
   "language": "python",
   "name": "python3"
  },
  "language_info": {
   "codemirror_mode": {
    "name": "ipython",
    "version": 3
   },
   "file_extension": ".py",
   "mimetype": "text/x-python",
   "name": "python",
   "nbconvert_exporter": "python",
   "pygments_lexer": "ipython3",
   "version": "3.7.6"
  }
 },
 "nbformat": 4,
 "nbformat_minor": 4
}
